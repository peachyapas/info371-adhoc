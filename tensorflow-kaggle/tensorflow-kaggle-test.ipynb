{
 "cells": [
  {
   "cell_type": "code",
   "execution_count": 24,
   "metadata": {},
   "outputs": [],
   "source": [
    "import tensorflow as tf\n",
    "import matplotlib.pyplot as plt\n",
    "from tensorflow.keras.layers import Dense\n",
    "import tensorflow.keras.backend as K\n",
    "from tensorflow.keras import optimizers\n",
    "from sklearn.model_selection import train_test_split\n",
    "import numpy as np\n",
    "import pandas as pd"
   ]
  },
  {
   "cell_type": "code",
   "execution_count": 25,
   "metadata": {},
   "outputs": [],
   "source": [
    "# set some globals, which are used across the remaining functions\n",
    "IMAGE_SHAPE = (28,28,1)\n",
    "NUM_CLASSES = 10\n",
    "# training parameters\n",
    "NUM_EPOCHS = 20\n",
    "BATCH_SIZE = 128"
   ]
  },
  {
   "cell_type": "code",
   "execution_count": 27,
   "metadata": {},
   "outputs": [],
   "source": [
    "\n",
    "train_df = pd.read_csv(\"../kaggleData/train.csv\")\n",
    "test_df = pd.read_csv(\"../kaggleData/test.csv\")\n",
    "\n",
    "y_train = train_df['label']\n",
    "X_train = train_df.drop('label', axis=1)\n",
    "X_test = test_df"
   ]
  },
  {
   "cell_type": "code",
   "execution_count": 28,
   "metadata": {},
   "outputs": [],
   "source": [
    "X_train = X_train.to_numpy().reshape(42000, 28, 28)\n",
    "X_test = X_test.to_numpy().reshape(28000, 28, 28)"
   ]
  },
  {
   "cell_type": "code",
   "execution_count": 29,
   "metadata": {},
   "outputs": [],
   "source": [
    "y_train = y_train.to_numpy()"
   ]
  },
  {
   "cell_type": "code",
   "execution_count": 30,
   "metadata": {},
   "outputs": [
    {
     "data": {
      "text/plain": [
       "<matplotlib.image.AxesImage at 0x141a6c11f70>"
      ]
     },
     "execution_count": 30,
     "metadata": {},
     "output_type": "execute_result"
    },
    {
     "data": {
      "image/png": "[encoded data removed]",
      "text/plain": [
       "<Figure size 432x288 with 1 Axes>"
      ]
     },
     "metadata": {
      "needs_background": "light"
     },
     "output_type": "display_data"
    }
   ],
   "source": [
    "image_index = 41999 # You may select anything up to 60,000\n",
    "plt.imshow(X_train[image_index], cmap='binary') # Show the image"
   ]
  },
  {
   "cell_type": "code",
   "execution_count": 31,
   "metadata": {},
   "outputs": [],
   "source": [
    "X_train = (X_train.astype('float32') / 255.0)\n",
    "X_test = (X_test.astype('float32') / 255.0)"
   ]
  },
  {
   "cell_type": "code",
   "execution_count": 32,
   "metadata": {},
   "outputs": [],
   "source": [
    "model = Sequential()\n",
    "\n",
    "model.add(Flatten(input_shape=[28,28])) # Change from 2-D to 1-D (28*28 neurons in input layer)\n",
    "\n",
    "# Create Pyramid-like sequence for neural net\n",
    "model.add(Dense(300, activation=\"relu\"))\n",
    "model.add(Dense(200, activation=\"relu\"))\n",
    "model.add(Dense(100, activation=\"relu\"))\n",
    "model.add(Dense(100, activation=\"tanh\"))\n",
    "model.add(Dense(50, activation=\"relu\"))\n",
    "model.add(Dense(10, activation='softmax')) # output activation should be softmax for classication > 2 output classes"
   ]
  },
  {
   "cell_type": "code",
   "execution_count": 33,
   "metadata": {},
   "outputs": [
    {
     "name": "stdout",
     "output_type": "stream",
     "text": [
      "Model: \"sequential_1\"\n",
      "_________________________________________________________________\n",
      "Layer (type)                 Output Shape              Param #   \n",
      "=================================================================\n",
      "flatten_1 (Flatten)          (None, 784)               0         \n",
      "_________________________________________________________________\n",
      "dense_6 (Dense)              (None, 300)               235500    \n",
      "_________________________________________________________________\n",
      "dense_7 (Dense)              (None, 200)               60200     \n",
      "_________________________________________________________________\n",
      "dense_8 (Dense)              (None, 100)               20100     \n",
      "_________________________________________________________________\n",
      "dense_9 (Dense)              (None, 100)               10100     \n",
      "_________________________________________________________________\n",
      "dense_10 (Dense)             (None, 50)                5050      \n",
      "_________________________________________________________________\n",
      "dense_11 (Dense)             (None, 10)                510       \n",
      "=================================================================\n",
      "Total params: 331,460\n",
      "Trainable params: 331,460\n",
      "Non-trainable params: 0\n",
      "_________________________________________________________________\n"
     ]
    }
   ],
   "source": [
    "model.summary()"
   ]
  },
  {
   "cell_type": "code",
   "execution_count": 34,
   "metadata": {},
   "outputs": [],
   "source": [
    "model.compile(loss=\"sparse_categorical_crossentropy\",\n",
    "             optimizer=\"sgd\",\n",
    "             metrics=['accuracy'])"
   ]
  },
  {
   "cell_type": "code",
   "execution_count": 35,
   "metadata": {},
   "outputs": [
    {
     "name": "stdout",
     "output_type": "stream",
     "text": [
      "Epoch 1/20\n",
      "1313/1313 [==============================] - 1s 943us/step - loss: 0.6925 - accuracy: 0.8103\n",
      "Epoch 2/20\n",
      "1313/1313 [==============================] - 1s 997us/step - loss: 0.2449 - accuracy: 0.9275\n",
      "Epoch 3/20\n",
      "1313/1313 [==============================] - 1s 942us/step - loss: 0.1809 - accuracy: 0.9464\n",
      "Epoch 4/20\n",
      "1313/1313 [==============================] - 1s 940us/step - loss: 0.1443 - accuracy: 0.9571\n",
      "Epoch 5/20\n",
      "1313/1313 [==============================] - 1s 976us/step - loss: 0.1203 - accuracy: 0.9645\n",
      "Epoch 6/20\n",
      "1313/1313 [==============================] - 1s 952us/step - loss: 0.1020 - accuracy: 0.9699\n",
      "Epoch 7/20\n",
      "1313/1313 [==============================] - 1s 974us/step - loss: 0.0858 - accuracy: 0.9747\n",
      "Epoch 8/20\n",
      "1313/1313 [==============================] - 1s 958us/step - loss: 0.0750 - accuracy: 0.9783\n",
      "Epoch 9/20\n",
      "1313/1313 [==============================] - 1s 991us/step - loss: 0.0646 - accuracy: 0.9812\n",
      "Epoch 10/20\n",
      "1313/1313 [==============================] - 1s 960us/step - loss: 0.0554 - accuracy: 0.9840\n",
      "Epoch 11/20\n",
      "1313/1313 [==============================] - 1s 986us/step - loss: 0.0478 - accuracy: 0.9869\n",
      "Epoch 12/20\n",
      "1313/1313 [==============================] - 1s 1ms/step - loss: 0.0412 - accuracy: 0.9884\n",
      "Epoch 13/20\n",
      "1313/1313 [==============================] - 1s 1ms/step - loss: 0.0358 - accuracy: 0.9904\n",
      "Epoch 14/20\n",
      "1313/1313 [==============================] - 1s 974us/step - loss: 0.0310 - accuracy: 0.9923\n",
      "Epoch 15/20\n",
      "1313/1313 [==============================] - 1s 980us/step - loss: 0.0266 - accuracy: 0.9936\n",
      "Epoch 16/20\n",
      "1313/1313 [==============================] - 1s 1ms/step - loss: 0.0223 - accuracy: 0.9950\n",
      "Epoch 17/20\n",
      "1313/1313 [==============================] - 1s 960us/step - loss: 0.0196 - accuracy: 0.9959\n",
      "Epoch 18/20\n",
      "1313/1313 [==============================] - 1s 978us/step - loss: 0.0164 - accuracy: 0.9967\n",
      "Epoch 19/20\n",
      "1313/1313 [==============================] - 1s 983us/step - loss: 0.0140 - accuracy: 0.9975\n",
      "Epoch 20/20\n",
      "1313/1313 [==============================] - 1s 937us/step - loss: 0.0119 - accuracy: 0.9980\n"
     ]
    },
    {
     "data": {
      "text/plain": [
       "<tensorflow.python.keras.callbacks.History at 0x141a6eb0d60>"
      ]
     },
     "execution_count": 35,
     "metadata": {},
     "output_type": "execute_result"
    }
   ],
   "source": [
    "model.fit(X_train, y_train, epochs=NUM_EPOCHS)"
   ]
  },
  {
   "cell_type": "code",
   "execution_count": 36,
   "metadata": {},
   "outputs": [
    {
     "data": {
      "image/png": "[encoded data removed]",
      "text/plain": [
       "<Figure size 864x432 with 50 Axes>"
      ]
     },
     "metadata": {
      "needs_background": "light"
     },
     "output_type": "display_data"
    }
   ],
   "source": [
    "n_rows = 5\n",
    "n_cols = 10\n",
    "plt.figure(figsize=(n_cols * 1.2, n_rows * 1.2))\n",
    "for row in range(n_rows):\n",
    "    for col in range(n_cols):\n",
    "        index = n_cols * row + col\n",
    "        plt.subplot(n_rows, n_cols, index + 1)\n",
    "        plt.imshow(X_test[index], cmap=\"binary\", interpolation=\"nearest\")\n",
    "        pred = model.predict_classes(X_test[index:index+1])[0]\n",
    "        plt.title(\"Pred: {}\".format(pred))\n",
    "        plt.axis('off')\n",
    "plt.subplots_adjust(wspace=0.2, hspace=0.5)\n",
    "plt.show()"
   ]
  },
  {
   "cell_type": "code",
   "execution_count": null,
   "metadata": {},
   "outputs": [],
   "source": [
    "preds = model.predict_classes(X_test)\n",
    "output_dict = {\"ImageId\": np.arange(1, len(preds) + 1, 1), \"label\": preds}\n",
    "preds_df = pd.DataFrame(output_dict)"
   ]
  },
  {
   "cell_type": "code",
   "execution_count": null,
   "metadata": {},
   "outputs": [],
   "source": []
  },
  {
   "cell_type": "code",
   "execution_count": null,
   "metadata": {},
   "outputs": [],
   "source": []
  }
 ],
 "metadata": {
  "kernelspec": {
   "display_name": "Python 3",
   "language": "python",
   "name": "python3"
  },
  "language_info": {
   "codemirror_mode": {
    "name": "ipython",
    "version": 3
   },
   "file_extension": ".py",
   "mimetype": "text/x-python",
   "name": "python",
   "nbconvert_exporter": "python",
   "pygments_lexer": "ipython3",
   "version": "3.8.8"
  }
 },
 "nbformat": 4,
 "nbformat_minor": 4
}
