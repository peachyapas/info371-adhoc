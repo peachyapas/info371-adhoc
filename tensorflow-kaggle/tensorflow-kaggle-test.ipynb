{
 "cells": [
  {
   "cell_type": "code",
   "execution_count": 1,
   "metadata": {},
   "outputs": [],
   "source": [
    "import tensorflow as tf\n",
    "import matplotlib.pyplot as plt\n",
    "from tensorflow.keras.layers import Dense\n",
    "import tensorflow.keras.backend as K\n",
    "from tensorflow.keras import optimizers\n",
    "from sklearn.model_selection import train_test_split\n",
    "import numpy as np\n",
    "import pandas as pd\n",
    "from tensorflow.keras.models import Sequential\n",
    "from tensorflow.keras.layers import Conv2D,MaxPooling2D,\\\n",
    "     Dropout,Flatten,Dense,Activation,\\\n",
    "     BatchNormalization"
   ]
  },
  {
   "cell_type": "code",
   "execution_count": 97,
   "metadata": {},
   "outputs": [],
   "source": [
    "# set some globals, which are used across the remaining functions\n",
    "Image_width = 28\n",
    "Image_height = 28\n",
    "Image_Channels = 1\n",
    "IMAGE_SHAPE = (Image_width,Image_height,Image_Channels)\n",
    "NUM_CLASSES = 10\n",
    "# training parameters\n",
    "NUM_EPOCHS = 30\n",
    "BATCH_SIZE = 128"
   ]
  },
  {
   "cell_type": "code",
   "execution_count": 83,
   "metadata": {
    "scrolled": true
   },
   "outputs": [],
   "source": [
    "# No Test labels so not using!! \n",
    "# train_df = pd.read_csv(\"../kaggleData/train.csv\")\n",
    "# test_df = pd.read_csv(\"../kaggleData/test.csv\")\n",
    "\n",
    "# y_train = train_df['label']\n",
    "# X_train = train_df.drop('label', axis=1)\n",
    "# X_test = test_df"
   ]
  },
  {
   "cell_type": "code",
   "execution_count": 48,
   "metadata": {},
   "outputs": [
    {
     "data": {
      "text/plain": [
       "(8400, 784)"
      ]
     },
     "execution_count": 48,
     "metadata": {},
     "output_type": "execute_result"
    }
   ],
   "source": []
  },
  {
   "cell_type": "markdown",
   "metadata": {},
   "source": [
    "## Data  Cleaning and Parsing"
   ]
  },
  {
   "cell_type": "code",
   "execution_count": 4,
   "metadata": {},
   "outputs": [],
   "source": [
    "train_df = pd.read_csv(\"../kaggleData/train.csv\")\n",
    "# test_df = pd.read_csv(\"../kaggleData/test.csv\")\n",
    "\n",
    "fullX = train_df.iloc[:, 1:].values # get all row for every other column\n",
    "fullY = train_df.iloc[:, :1].values # get every row for label\n",
    "length = fullX.shape[0]\n",
    "X_train, X_test, y_train, y_test = train_test_split(fullX, fullY, test_size = 0.2, random_state=1)"
   ]
  },
  {
   "cell_type": "code",
   "execution_count": 49,
   "metadata": {},
   "outputs": [],
   "source": [
    "X_train = X_train.reshape(33600, 28, 28)\n",
    "X_test = X_test.reshape(8400, 28, 28)"
   ]
  },
  {
   "cell_type": "code",
   "execution_count": 55,
   "metadata": {},
   "outputs": [
    {
     "data": {
      "text/plain": [
       "<matplotlib.image.AxesImage at 0x18b168ae910>"
      ]
     },
     "execution_count": 55,
     "metadata": {},
     "output_type": "execute_result"
    },
    {
     "data": {
      "image/png": "[encoded data removed]",
      "text/plain": [
       "<Figure size 432x288 with 1 Axes>"
      ]
     },
     "metadata": {
      "needs_background": "light"
     },
     "output_type": "display_data"
    }
   ],
   "source": [
    "image_index = 3332# may select anything up to 60,000\n",
    "plt.imshow(X_train[image_index], cmap='binary') # Show the image"
   ]
  },
  {
   "cell_type": "code",
   "execution_count": 6,
   "metadata": {},
   "outputs": [
    {
     "data": {
      "text/plain": [
       "(33600, 784)"
      ]
     },
     "execution_count": 6,
     "metadata": {},
     "output_type": "execute_result"
    }
   ],
   "source": [
    "X_train = (X_train.astype('float32') / 255.0)\n",
    "X_test = (X_test.astype('float32') / 255.0)\n",
    "\n",
    "x_shape = X_train.shape\n",
    "x_shape"
   ]
  },
  {
   "cell_type": "markdown",
   "metadata": {},
   "source": [
    "## Creating Simple TensorFlow model"
   ]
  },
  {
   "cell_type": "code",
   "execution_count": 100,
   "metadata": {},
   "outputs": [],
   "source": [
    "# Testing Ott's Cats and dog model\n",
    "model = Sequential()\n",
    "\n",
    "# should feed in input shape [28,28]\n",
    "# only looking at image height and width\n",
    "\n",
    "model.add(Flatten(input_shape=[28,28]))\n",
    "\n",
    "model.add(Dense(512, activation='relu'))\n",
    "\n",
    "model.add(Dense(256, activation='relu'))\n",
    "\n",
    "model.add(Dense(128, activation='relu'))\n",
    "\n",
    "model.add(Dense(50, activation='relu'))\n",
    "\n",
    "model.add(Dense(10, activation='softmax'))"
   ]
  },
  {
   "cell_type": "code",
   "execution_count": 101,
   "metadata": {},
   "outputs": [
    {
     "name": "stdout",
     "output_type": "stream",
     "text": [
      "Model: \"sequential_10\"\n",
      "_________________________________________________________________\n",
      "Layer (type)                 Output Shape              Param #   \n",
      "=================================================================\n",
      "flatten_9 (Flatten)          (None, 784)               0         \n",
      "_________________________________________________________________\n",
      "dense_28 (Dense)             (None, 512)               401920    \n",
      "_________________________________________________________________\n",
      "dense_29 (Dense)             (None, 256)               131328    \n",
      "_________________________________________________________________\n",
      "dense_30 (Dense)             (None, 128)               32896     \n",
      "_________________________________________________________________\n",
      "dense_31 (Dense)             (None, 50)                6450      \n",
      "_________________________________________________________________\n",
      "dense_32 (Dense)             (None, 10)                510       \n",
      "=================================================================\n",
      "Total params: 573,104\n",
      "Trainable params: 573,104\n",
      "Non-trainable params: 0\n",
      "_________________________________________________________________\n"
     ]
    }
   ],
   "source": [
    "model.summary()"
   ]
  },
  {
   "cell_type": "code",
   "execution_count": 102,
   "metadata": {},
   "outputs": [],
   "source": [
    "model.compile(loss=\"sparse_categorical_crossentropy\",\n",
    "             optimizer=\"sgd\",\n",
    "             metrics=['accuracy'])"
   ]
  },
  {
   "cell_type": "code",
   "execution_count": 103,
   "metadata": {},
   "outputs": [
    {
     "name": "stdout",
     "output_type": "stream",
     "text": [
      "Epoch 1/30\n",
      "1050/1050 [==============================] - 2s 2ms/step - loss: 0.8461 - accuracy: 0.7668\n",
      "Epoch 2/30\n",
      "1050/1050 [==============================] - 2s 1ms/step - loss: 0.2983 - accuracy: 0.9124\n",
      "Epoch 3/30\n",
      "1050/1050 [==============================] - 2s 2ms/step - loss: 0.2262 - accuracy: 0.9342\n",
      "Epoch 4/30\n",
      "1050/1050 [==============================] - 2s 2ms/step - loss: 0.1844 - accuracy: 0.9470\n",
      "Epoch 5/30\n",
      "1050/1050 [==============================] - 2s 2ms/step - loss: 0.1543 - accuracy: 0.9558\n",
      "Epoch 6/30\n",
      "1050/1050 [==============================] - 2s 2ms/step - loss: 0.1318 - accuracy: 0.9617\n",
      "Epoch 7/30\n",
      "1050/1050 [==============================] - 2s 2ms/step - loss: 0.1134 - accuracy: 0.9670\n",
      "Epoch 8/30\n",
      "1050/1050 [==============================] - 2s 2ms/step - loss: 0.0972 - accuracy: 0.9713\n",
      "Epoch 9/30\n",
      "1050/1050 [==============================] - 2s 2ms/step - loss: 0.0845 - accuracy: 0.9747\n",
      "Epoch 10/30\n",
      "1050/1050 [==============================] - 2s 2ms/step - loss: 0.0736 - accuracy: 0.9790\n",
      "Epoch 11/30\n",
      "1050/1050 [==============================] - 2s 2ms/step - loss: 0.0633 - accuracy: 0.9823\n",
      "Epoch 12/30\n",
      "1050/1050 [==============================] - 2s 1ms/step - loss: 0.0558 - accuracy: 0.9843\n",
      "Epoch 13/30\n",
      "1050/1050 [==============================] - 2s 2ms/step - loss: 0.0483 - accuracy: 0.9860\n",
      "Epoch 14/30\n",
      "1050/1050 [==============================] - 2s 2ms/step - loss: 0.0421 - accuracy: 0.9889\n",
      "Epoch 15/30\n",
      "1050/1050 [==============================] - 2s 2ms/step - loss: 0.0364 - accuracy: 0.9907\n",
      "Epoch 16/30\n",
      "1050/1050 [==============================] - 2s 2ms/step - loss: 0.0318 - accuracy: 0.9920\n",
      "Epoch 17/30\n",
      "1050/1050 [==============================] - 2s 2ms/step - loss: 0.0264 - accuracy: 0.9940\n",
      "Epoch 18/30\n",
      "1050/1050 [==============================] - 2s 2ms/step - loss: 0.0236 - accuracy: 0.9946\n",
      "Epoch 19/30\n",
      "1050/1050 [==============================] - 2s 2ms/step - loss: 0.0193 - accuracy: 0.9965\n",
      "Epoch 20/30\n",
      "1050/1050 [==============================] - 2s 2ms/step - loss: 0.0175 - accuracy: 0.9971\n",
      "Epoch 21/30\n",
      "1050/1050 [==============================] - 2s 2ms/step - loss: 0.0146 - accuracy: 0.9976: 0s - loss: 0.0\n",
      "Epoch 22/30\n",
      "1050/1050 [==============================] - 2s 2ms/step - loss: 0.0131 - accuracy: 0.9980\n",
      "Epoch 23/30\n",
      "1050/1050 [==============================] - 2s 2ms/step - loss: 0.0112 - accuracy: 0.9985\n",
      "Epoch 24/30\n",
      "1050/1050 [==============================] - 2s 2ms/step - loss: 0.0092 - accuracy: 0.9990\n",
      "Epoch 25/30\n",
      "1050/1050 [==============================] - 2s 2ms/step - loss: 0.0080 - accuracy: 0.9993\n",
      "Epoch 26/30\n",
      "1050/1050 [==============================] - 2s 2ms/step - loss: 0.0071 - accuracy: 0.9993\n",
      "Epoch 27/30\n",
      "1050/1050 [==============================] - 2s 1ms/step - loss: 0.0063 - accuracy: 0.9995\n",
      "Epoch 28/30\n",
      "1050/1050 [==============================] - 2s 1ms/step - loss: 0.0054 - accuracy: 0.9996\n",
      "Epoch 29/30\n",
      "1050/1050 [==============================] - 2s 1ms/step - loss: 0.0048 - accuracy: 0.9997\n",
      "Epoch 30/30\n",
      "1050/1050 [==============================] - 2s 2ms/step - loss: 0.0044 - accuracy: 0.9998\n"
     ]
    },
    {
     "data": {
      "text/plain": [
       "<tensorflow.python.keras.callbacks.History at 0x18b176d6340>"
      ]
     },
     "execution_count": 103,
     "metadata": {},
     "output_type": "execute_result"
    }
   ],
   "source": [
    "model.fit(X_train, y_train, epochs=NUM_EPOCHS)"
   ]
  },
  {
   "cell_type": "markdown",
   "metadata": {},
   "source": [
    "## Plotting our predicted Values with the digit image"
   ]
  },
  {
   "cell_type": "code",
   "execution_count": 86,
   "metadata": {},
   "outputs": [
    {
     "data": {
      "image/png": "[encoded data removed]",
      "text/plain": [
       "<Figure size 864x432 with 50 Axes>"
      ]
     },
     "metadata": {
      "needs_background": "light"
     },
     "output_type": "display_data"
    }
   ],
   "source": [
    "n_rows = 5\n",
    "n_cols = 10\n",
    "plt.figure(figsize=(n_cols * 1.2, n_rows * 1.2))\n",
    "for row in range(n_rows):\n",
    "    for col in range(n_cols):\n",
    "        index = n_cols * row + col\n",
    "        plt.subplot(n_rows, n_cols, index + 1)\n",
    "        plt.imshow(X_test[index], cmap=\"binary\", interpolation=\"nearest\")\n",
    "        pred = model.predict_classes(X_test[index:index+1])[0]\n",
    "        plt.title(\"Pred: {}\".format(pred))\n",
    "        plt.axis('off')\n",
    "plt.subplots_adjust(wspace=0.2, hspace=0.5)\n",
    "plt.show()"
   ]
  },
  {
   "cell_type": "markdown",
   "metadata": {},
   "source": [
    "## Accuracy of Model"
   ]
  },
  {
   "cell_type": "code",
   "execution_count": 105,
   "metadata": {},
   "outputs": [
    {
     "data": {
      "text/plain": [
       "0.9763095238095238"
      ]
     },
     "execution_count": 105,
     "metadata": {},
     "output_type": "execute_result"
    }
   ],
   "source": [
    "#  predicting the number and selecting the digit that is most probable \n",
    "prediction = model.predict(X_test)\n",
    "predictedValue = prediction.argmax(axis=1)\n",
    "\n",
    "# Comparing predicted digit to the actual digit value to determine the accuracy of the model\n",
    "accuracy = np.mean(y_test.ravel() == predictedValue.ravel())\n",
    "accuracy"
   ]
  },
  {
   "cell_type": "markdown",
   "metadata": {},
   "source": [
    "## Results from doing these tests\n",
    "\n",
    "EPOCHS = 30 \n",
    "\n",
    "model.add(Flatten(input_shape=[28,28])) # Change from 2-D to 1-D (28*28 neurons in input layer)\n",
    "\n",
    "model.add(Dense(512, activation='relu'))\n",
    "            \n",
    "model.add(BatchNormalization())\n",
    "\n",
    "model.add(Dense(256, activation='relu'))\n",
    "\n",
    "model.add(BatchNormalization())\n",
    "\n",
    "model.add(Dense(100, activation='relu'))\n",
    "\n",
    "model.add(Dropout(0.5))\n",
    "\n",
    "model.add(Dense(10, activation='softmax'))\n",
    "\n",
    "### accuracy^ 0.9792857142857143\n",
    "\n",
    "EPOCHS = 30 \n",
    "\n",
    "model.add(Flatten(input_shape=[28,28])) # Change from 2-D to 1-D (28*28 neurons in input layer)\n",
    "\n",
    "model.add(Dense(512, activation='relu'))\n",
    "            \n",
    "model.add(BatchNormalization())\n",
    "\n",
    "model.add(Dense(256, activation='relu'))\n",
    "\n",
    "model.add(BatchNormalization())\n",
    "\n",
    "model.add(Dense(512, activation='relu'))\n",
    "\n",
    "model.add(Dropout(0.5))\n",
    "\n",
    "model.add(Dense(10, activation='softmax'))\n",
    "\n",
    "### Accuracy ^ 0.9783333333333334\n",
    "\n",
    "EPOCHS = 30 \n",
    "\n",
    "model.add(Flatten(input_shape=[28,28])) # Change from 2-D to 1-D (28*28 neurons in input layer)\n",
    "\n",
    "model.add(Dense(512, activation='relu'))\n",
    "\n",
    "model.add(Dense(256, activation='relu'))\n",
    "\n",
    "model.add(Dense(128, activation='relu'))\n",
    "\n",
    "model.add(Dense(50, activation='relu'))\n",
    "\n",
    "model.add(Dense(10, activation='softmax'))\n",
    "\n",
    "### Accuracy ^ 0.9763095238095238"
   ]
  },
  {
   "cell_type": "markdown",
   "metadata": {},
   "source": [
    "## Confusion Matrix"
   ]
  },
  {
   "cell_type": "code",
   "execution_count": 71,
   "metadata": {},
   "outputs": [],
   "source": [
    "from sklearn.metrics import confusion_matrix"
   ]
  },
  {
   "cell_type": "code",
   "execution_count": 72,
   "metadata": {},
   "outputs": [
    {
     "data": {
      "text/plain": [
       "array([[843,   0,   2,   0,   0,   2,   4,   2,   0,   0],\n",
       "       [  0, 933,   2,   1,   0,   0,   1,   0,   3,   0],\n",
       "       [  0,   2, 818,   1,   1,   0,   0,   6,   7,   0],\n",
       "       [  0,   0,   9, 840,   0,  14,   1,   3,   3,   3],\n",
       "       [  0,   1,   1,   0, 811,   0,   1,   7,   0,   8],\n",
       "       [  2,   1,   2,   9,   1, 706,   4,   1,   3,   2],\n",
       "       [  2,   0,   2,   0,   3,   2, 789,   0,   1,   1],\n",
       "       [  0,   2,   4,   1,   2,   1,   0, 832,   0,   8],\n",
       "       [  1,   3,   0,   3,   2,   4,   4,   2, 823,   4],\n",
       "       [  2,   0,   0,   2,  12,   4,   0,  10,   3, 810]], dtype=int64)"
      ]
     },
     "execution_count": 72,
     "metadata": {},
     "output_type": "execute_result"
    }
   ],
   "source": [
    "potato = confusion_matrix(y_test, newVals)\n",
    "potato"
   ]
  },
  {
   "cell_type": "code",
   "execution_count": 73,
   "metadata": {},
   "outputs": [],
   "source": [
    "preds = model.predict_classes(X_test)\n",
    "output_dict = {\"ImageId\": np.arange(1, len(preds) + 1, 1), \"label\": preds}\n",
    "preds_df = pd.DataFrame(output_dict)"
   ]
  },
  {
   "cell_type": "code",
   "execution_count": null,
   "metadata": {},
   "outputs": [],
   "source": [
    "preds_df"
   ]
  },
  {
   "cell_type": "code",
   "execution_count": null,
   "metadata": {},
   "outputs": [],
   "source": [
    "preds"
   ]
  },
  {
   "cell_type": "code",
   "execution_count": null,
   "metadata": {},
   "outputs": [],
   "source": [
    "model.score(X_train,X_test)"
   ]
  },
  {
   "cell_type": "code",
   "execution_count": 34,
   "metadata": {},
   "outputs": [],
   "source": [
    "model = Sequential()\n",
    "\n",
    "# only looking at image height and width\n",
    "model.add(Flatten(input_shape=[28,28])) # Change from 2-D to 1-D (28*28 neurons in input layer)\n",
    "\n",
    "# Create Pyramid-like sequence for neural net\n",
    "model.add(Dense(300, activation=\"relu\"))\n",
    "model.add(Dense(200, activation=\"relu\"))\n",
    "model.add(Dense(100, activation=\"relu\"))\n",
    "model.add(Dense(100, activation=\"relu\"))\n",
    "model.add(Dense(50, activation=\"relu\"))\n",
    "model.add(Dense(10, activation='softmax')) # output activation should be softmax for classication > 2 output classes"
   ]
  },
  {
   "cell_type": "markdown",
   "metadata": {},
   "source": [
    "# Convolution Models"
   ]
  },
  {
   "cell_type": "code",
   "execution_count": 107,
   "metadata": {},
   "outputs": [
    {
     "name": "stdout",
     "output_type": "stream",
     "text": [
      "Before preprocessing:\n",
      " - X_train.shape = (33600, 28, 28), y_train.shape = (33600, 1)\n",
      " - X_test.shape = (8400, 28, 28)\n",
      "After preprocessing: \n",
      " - X_train.shape = (33600, 28, 28, 1), y_train.shape = (33600, 10)\n",
      " - X_test.shape = (8400, 28, 28, 1)\n"
     ]
    }
   ],
   "source": [
    "K.clear_session()\n",
    "\n",
    "from tensorflow.keras.utils import to_categorical\n",
    "\n",
    "print('Before preprocessing:')\n",
    "print(' - X_train.shape = {}, y_train.shape = {}'.format(X_train.shape, y_train.shape))\n",
    "print(' - X_test.shape = {}'.format(X_test.shape))\n",
    "\n",
    "# one-hot encode labels to 10 output classes corresponding to digits 0-9\n",
    "y_train = to_categorical(y_train, 10)\n",
    "\n",
    "# reshape the image arrays (make 2D arrays instead of 3D arrays)\n",
    "X_train = np.reshape(X_train, (X_train.shape[0], X_train.shape[1], X_train.shape[2], 1))\n",
    "X_test = np.reshape(X_test, (X_test.shape[0], X_test.shape[1], X_test.shape[2], 1))\n",
    "\n",
    "print('After preprocessing: ')\n",
    "print(' - X_train.shape = {}, y_train.shape = {}'.format(X_train.shape, y_train.shape))\n",
    "print(' - X_test.shape = {}'.format(X_test.shape))"
   ]
  },
  {
   "cell_type": "code",
   "execution_count": 108,
   "metadata": {},
   "outputs": [
    {
     "name": "stdout",
     "output_type": "stream",
     "text": [
      "Model: \"sequential\"\n",
      "_________________________________________________________________\n",
      "Layer (type)                 Output Shape              Param #   \n",
      "=================================================================\n",
      "conv2d (Conv2D)              (None, 28, 28, 64)        640       \n",
      "_________________________________________________________________\n",
      "max_pooling2d (MaxPooling2D) (None, 14, 14, 64)        0         \n",
      "_________________________________________________________________\n",
      "conv2d_1 (Conv2D)            (None, 14, 14, 64)        36928     \n",
      "_________________________________________________________________\n",
      "max_pooling2d_1 (MaxPooling2 (None, 7, 7, 64)          0         \n",
      "_________________________________________________________________\n",
      "conv2d_2 (Conv2D)            (None, 7, 7, 64)          36928     \n",
      "_________________________________________________________________\n",
      "max_pooling2d_2 (MaxPooling2 (None, 3, 3, 64)          0         \n",
      "_________________________________________________________________\n",
      "conv2d_3 (Conv2D)            (None, 3, 3, 64)          36928     \n",
      "_________________________________________________________________\n",
      "max_pooling2d_3 (MaxPooling2 (None, 1, 1, 64)          0         \n",
      "_________________________________________________________________\n",
      "flatten (Flatten)            (None, 64)                0         \n",
      "_________________________________________________________________\n",
      "dropout (Dropout)            (None, 64)                0         \n",
      "_________________________________________________________________\n",
      "dense (Dense)                (None, 10)                650       \n",
      "=================================================================\n",
      "Total params: 112,074\n",
      "Trainable params: 112,074\n",
      "Non-trainable params: 0\n",
      "_________________________________________________________________\n"
     ]
    }
   ],
   "source": [
    "def build_model():\n",
    "    K.clear_session()\n",
    "    \n",
    "    model = Sequential()\n",
    "    model.add(Conv2D(64, kernel_size=(3,3), padding='same', activation='relu',\n",
    "                    input_shape=IMAGE_SHAPE))\n",
    "    model.add(MaxPooling2D(pool_size=(2,2)))\n",
    "    model.add(Conv2D(64, kernel_size=(3,3), padding='same', activation='relu'))\n",
    "    model.add(MaxPooling2D(pool_size=(2,2)))\n",
    "    \n",
    "    model.add(Conv2D(64, kernel_size=(3,3), padding='same', activation='relu',\n",
    "                input_shape=IMAGE_SHAPE))\n",
    "    model.add(MaxPooling2D(pool_size=(2,2)))\n",
    "    model.add(Conv2D(64, kernel_size=(3,3), padding='same', activation='relu'))\n",
    "    model.add(MaxPooling2D(pool_size=(2,2)))\n",
    "    \n",
    "    model.add(Flatten())\n",
    "    model.add(Dropout(0.45))\n",
    "    # output is softmax for 10 classes\n",
    "    model.add(Dense(NUM_CLASSES, activation='softmax'))\n",
    "    adam = optimizers.Adam(lr=0.001)\n",
    "    model.compile(optimizer=adam, loss='categorical_crossentropy', metrics=['acc'])\n",
    "    return model\n",
    "\n",
    "model = build_model()\n",
    "model.summary()"
   ]
  },
  {
   "cell_type": "code",
   "execution_count": 115,
   "metadata": {},
   "outputs": [],
   "source": [
    "BATCH_SIZE = 128\n",
    "NUM_EPOCHS = 20"
   ]
  },
  {
   "cell_type": "code",
   "execution_count": 116,
   "metadata": {},
   "outputs": [
    {
     "name": "stdout",
     "output_type": "stream",
     "text": [
      "Epoch 1/20\n",
      "263/263 [==============================] - 17s 65ms/step - loss: 0.0326 - acc: 0.9896\n",
      "Epoch 2/20\n",
      "263/263 [==============================] - 16s 61ms/step - loss: 0.0251 - acc: 0.9921\n",
      "Epoch 3/20\n",
      "263/263 [==============================] - 16s 60ms/step - loss: 0.0225 - acc: 0.9930 0s - loss: 0.0226 - acc: 0.\n",
      "Epoch 4/20\n",
      "263/263 [==============================] - 16s 61ms/step - loss: 0.0203 - acc: 0.9936\n",
      "Epoch 5/20\n",
      "263/263 [==============================] - 16s 61ms/step - loss: 0.0194 - acc: 0.9935\n",
      "Epoch 6/20\n",
      "263/263 [==============================] - 16s 60ms/step - loss: 0.0198 - acc: 0.9937\n",
      "Epoch 7/20\n",
      "263/263 [==============================] - 16s 60ms/step - loss: 0.0192 - acc: 0.9940\n",
      "Epoch 8/20\n",
      "263/263 [==============================] - 16s 61ms/step - loss: 0.0154 - acc: 0.9952\n",
      "Epoch 9/20\n",
      "263/263 [==============================] - 16s 62ms/step - loss: 0.0189 - acc: 0.9939\n",
      "Epoch 10/20\n",
      "263/263 [==============================] - 17s 64ms/step - loss: 0.0157 - acc: 0.9946\n",
      "Epoch 11/20\n",
      "263/263 [==============================] - 16s 61ms/step - loss: 0.0172 - acc: 0.9946\n",
      "Epoch 12/20\n",
      "263/263 [==============================] - 16s 61ms/step - loss: 0.0161 - acc: 0.9946\n",
      "Epoch 13/20\n",
      "263/263 [==============================] - 16s 62ms/step - loss: 0.0162 - acc: 0.9948\n",
      "Epoch 14/20\n",
      "263/263 [==============================] - 16s 61ms/step - loss: 0.0163 - acc: 0.9946\n",
      "Epoch 15/20\n",
      "263/263 [==============================] - 16s 60ms/step - loss: 0.0133 - acc: 0.9955\n",
      "Epoch 16/20\n",
      "263/263 [==============================] - 16s 60ms/step - loss: 0.0110 - acc: 0.9962\n",
      "Epoch 17/20\n",
      "263/263 [==============================] - 16s 61ms/step - loss: 0.0100 - acc: 0.9971\n",
      "Epoch 18/20\n",
      "263/263 [==============================] - 16s 60ms/step - loss: 0.0123 - acc: 0.9960\n",
      "Epoch 19/20\n",
      "263/263 [==============================] - 16s 60ms/step - loss: 0.0152 - acc: 0.9947\n",
      "Epoch 20/20\n",
      "263/263 [==============================] - 15s 59ms/step - loss: 0.0123 - acc: 0.9957\n"
     ]
    }
   ],
   "source": [
    "history = model.fit(X_train, y_train, epochs=NUM_EPOCHS, \n",
    "                    batch_size=BATCH_SIZE)"
   ]
  },
  {
   "cell_type": "code",
   "execution_count": 112,
   "metadata": {},
   "outputs": [
    {
     "data": {
      "image/png": "[encoded data removed]",
      "text/plain": [
       "<Figure size 864x432 with 50 Axes>"
      ]
     },
     "metadata": {
      "needs_background": "light"
     },
     "output_type": "display_data"
    }
   ],
   "source": [
    "n_rows = 5\n",
    "n_cols = 10\n",
    "plt.figure(figsize=(n_cols * 1.2, n_rows * 1.2))\n",
    "for row in range(n_rows):\n",
    "    for col in range(n_cols):\n",
    "        index = n_cols * row + col\n",
    "        plt.subplot(n_rows, n_cols, index + 1)\n",
    "        plt.imshow(X_test[index].mean(axis=2), cmap=\"binary\", interpolation=\"nearest\")\n",
    "        pred = model.predict_classes(X_test[index:index+1])[0]\n",
    "        plt.title(\"Pred: {}\".format(pred))\n",
    "        plt.axis('off')\n",
    "plt.subplots_adjust(wspace=0.2, hspace=0.5)\n",
    "plt.show()"
   ]
  },
  {
   "cell_type": "code",
   "execution_count": 117,
   "metadata": {},
   "outputs": [
    {
     "data": {
      "text/plain": [
       "0.9878571428571429"
      ]
     },
     "execution_count": 117,
     "metadata": {},
     "output_type": "execute_result"
    }
   ],
   "source": [
    "#  predicting the number and selecting the digit that is most probable \n",
    "prediction = model.predict(X_test)\n",
    "predictedValue = prediction.argmax(axis=1)\n",
    "\n",
    "# Comparing predicted digit to the actual digit value to determine the accuracy of the model\n",
    "accuracy = np.mean(y_test.ravel() == predictedValue.ravel())\n",
    "accuracy"
   ]
  },
  {
   "cell_type": "markdown",
   "metadata": {},
   "source": [
    "## Results with Convolution\n",
    "BATCH_SIZE = 50\n",
    "NUM_EPOCHS = 5\n",
    "\n",
    "model.add(Conv2D(64, kernel_size=(3,3), padding='same', activation='relu',\n",
    "                    input_shape=IMAGE_SHAPE))\n",
    "                    \n",
    "model.add(MaxPooling2D(pool_size=(2,2)))\n",
    "\n",
    "model.add(Conv2D(64, kernel_size=(3,3), padding='same', activation='relu'))\n",
    "\n",
    "model.add(MaxPooling2D(pool_size=(2,2)))\n",
    "\n",
    "model.add(Conv2D(64, kernel_size=(3,3), padding='same', activation='relu',\n",
    "            input_shape=IMAGE_SHAPE))\n",
    "            \n",
    "model.add(MaxPooling2D(pool_size=(2,2)))\n",
    "\n",
    "model.add(Conv2D(64, kernel_size=(3,3), padding='same', activation='relu'))\n",
    "\n",
    "model.add(MaxPooling2D(pool_size=(2,2)))\n",
    "\n",
    "model.add(Flatten())\n",
    "\n",
    "model.add(Dropout(0.45)) #output is softmax for 10 classes\n",
    "\n",
    "model.add(Dense(NUM_CLASSES, activation='softmax'))\n",
    "\n",
    "adam = optimizers.Adam(lr=0.001)\n",
    "\n",
    "model.compile(optimizer=adam, loss='categorical_crossentropy', metrics=['acc'])\n",
    "\n",
    "### 0.9864285714285714\n",
    "\n",
    "BATCH_SIZE = 128\n",
    "NUM_EPOCHS = 20\n",
    "\n",
    "model.add(Conv2D(64, kernel_size=(3,3), padding='same', activation='relu',\n",
    "                    input_shape=IMAGE_SHAPE))\n",
    "                    \n",
    "model.add(MaxPooling2D(pool_size=(2,2)))\n",
    "\n",
    "model.add(Conv2D(64, kernel_size=(3,3), padding='same', activation='relu'))\n",
    "\n",
    "model.add(MaxPooling2D(pool_size=(2,2)))\n",
    "\n",
    "model.add(Conv2D(64, kernel_size=(3,3), padding='same', activation='relu',\n",
    "            input_shape=IMAGE_SHAPE))\n",
    "            \n",
    "model.add(MaxPooling2D(pool_size=(2,2)))\n",
    "\n",
    "model.add(Conv2D(64, kernel_size=(3,3), padding='same', activation='relu'))\n",
    "\n",
    "model.add(MaxPooling2D(pool_size=(2,2)))\n",
    "\n",
    "model.add(Flatten())\n",
    "\n",
    "model.add(Dropout(0.45)) #output is softmax for 10 classes\n",
    "\n",
    "model.add(Dense(NUM_CLASSES, activation='softmax'))\n",
    "\n",
    "adam = optimizers.Adam(lr=0.001)\n",
    "\n",
    "model.compile(optimizer=adam, loss='categorical_crossentropy', metrics=['acc'])\n",
    "\n",
    "### 0.9878571428571429"
   ]
  },
  {
   "cell_type": "markdown",
   "metadata": {},
   "source": [
    "## Notes from the Ott"
   ]
  },
  {
   "cell_type": "code",
   "execution_count": null,
   "metadata": {},
   "outputs": [],
   "source": [
    "# gives you 0 and positive values \n",
    "# fast and simple weights/outputs \n",
    "\n",
    "# normalizes the coefficients so the weights \n",
    "# behaves more stably especially during fitting. \n",
    "model.add(BatchNormalization())\n",
    "\n",
    "# drops out 50% of the batch nodes randomly \n",
    "# forces the model to be less perfect. Avoid overfitting \n",
    "model.add(Dropout(0.5))\n",
    "\n",
    "# returns valid probabilities\n",
    "# softmax good for categorical variables\n",
    "# gives you valid probabilities \n",
    "model.add(Dense(10, activation='softmax'))"
   ]
  }
 ],
 "metadata": {
  "kernelspec": {
   "display_name": "Python 3",
   "language": "python",
   "name": "python3"
  },
  "language_info": {
   "codemirror_mode": {
    "name": "ipython",
    "version": 3
   },
   "file_extension": ".py",
   "mimetype": "text/x-python",
   "name": "python",
   "nbconvert_exporter": "python",
   "pygments_lexer": "ipython3",
   "version": "3.8.8"
  }
 },
 "nbformat": 4,
 "nbformat_minor": 4
}
