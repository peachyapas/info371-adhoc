{
 "cells": [
  {
   "cell_type": "markdown",
   "metadata": {},
   "source": [
    "# MNIST Prediction with Full TF Model\n",
    "Lauren, Peach || INFO 371 Ad Hoc, Otty the Otto Toomet"
   ]
  },
  {
   "cell_type": "markdown",
   "metadata": {},
   "source": [
    "## Notes:\n",
    "- Throw away the <MAYBE THROW THIS AWAY> section @ the end if irrelevant"
   ]
  },
  {
   "cell_type": "code",
   "execution_count": 1,
   "metadata": {},
   "outputs": [],
   "source": [
    "# General\n",
    "import numpy as np\n",
    "import pandas as pd\n",
    "import random\n",
    "import matplotlib.pyplot as plt\n",
    "from sklearn.model_selection import train_test_split\n",
    "\n",
    "# Tensorflow\n",
    "import tensorflow as tf\n",
    "from tensorflow.keras import optimizers\n",
    "import tensorflow.keras.backend as K\n",
    "from tensorflow.keras.layers import Dense\n",
    "from tensorflow.keras.models import Sequential\n",
    "from tensorflow.keras.layers import Conv2D,MaxPooling2D,\\\n",
    "     Dropout,Flatten,Dense,Activation,\\\n",
    "     BatchNormalization\n",
    "\n",
    "# Image processing\n",
    "from PIL import Image\n",
    "import gzip\n",
    "import os\n",
    "import re"
   ]
  },
  {
   "cell_type": "markdown",
   "metadata": {},
   "source": [
    "# Image"
   ]
  },
  {
   "cell_type": "markdown",
   "metadata": {},
   "source": [
    "## Maybe throw this away"
   ]
  },
  {
   "cell_type": "code",
   "execution_count": 2,
   "metadata": {},
   "outputs": [],
   "source": [
    "f = gzip.open('../data/fullDataset/train-images-idx3-ubyte.gz','r')"
   ]
  },
  {
   "cell_type": "code",
   "execution_count": 3,
   "metadata": {},
   "outputs": [],
   "source": [
    "image_size = 28\n",
    "num_images = 60000\n",
    "\n",
    "f.read(16)\n",
    "\n",
    "# read rest of file as buffer\n",
    "buf = f.read(image_size * image_size * num_images)\n",
    "data = np.frombuffer(buf, dtype=np.uint8).astype(np.float32)\n",
    "data = data.reshape(num_images, image_size, image_size, 1)"
   ]
  },
  {
   "cell_type": "code",
   "execution_count": 4,
   "metadata": {},
   "outputs": [
    {
     "name": "stdout",
     "output_type": "stream",
     "text": [
      "(60000, 28, 28, 1)\n",
      "(28, 28, 1)\n",
      "[[  0.   0.   0.   0.   0.   0.   0.   0.   0.   0.   0.   0.   0.   0.\n",
      "    0.   0.   0.   0.   0.   0.   0.   0.   0.   0.   0.   0.   0.   0.]\n",
      " [  0.   0.   0.   0.   0.   0.   0.   0.   0.   0.   0.   0.   0.   0.\n",
      "    0.   0.   0.   0.   0.   0.   0.   0.   0.   0.   0.   0.   0.   0.]\n",
      " [  0.   0.   0.   0.   0.   0.   0.   0.   0.   0.   0.   0.   0.   0.\n",
      "    0.   0.   0.   0.   0.   0.   0.   0.   0.   0.   0.   0.   0.   0.]\n",
      " [  0.   0.   0.   0.   0.   0.   0.   0.   0.   0.   0.   0.   0.   0.\n",
      "    0.   0.   0.   0.   0.   0.   0.   0.   0.   0.   0.   0.   0.   0.]\n",
      " [  0.   0.   0.   0.   0.   0.   0.   0.   0.   0.   0.   0.   0.   0.\n",
      "    0.   0.   0.   0.   0.   0.   0.   0.   0.   0.   0.   0.   0.   0.]\n",
      " [  0.   0.   0.   0.   0.   0.   0.   0.   0.   0.   0.   0.   3.  18.\n",
      "   18.  18. 126. 136. 175.  26. 166. 255. 247. 127.   0.   0.   0.   0.]\n",
      " [  0.   0.   0.   0.   0.   0.   0.   0.  30.  36.  94. 154. 170. 253.\n",
      "  253. 253. 253. 253. 225. 172. 253. 242. 195.  64.   0.   0.   0.   0.]\n",
      " [  0.   0.   0.   0.   0.   0.   0.  49. 238. 253. 253. 253. 253. 253.\n",
      "  253. 253. 253. 251.  93.  82.  82.  56.  39.   0.   0.   0.   0.   0.]\n",
      " [  0.   0.   0.   0.   0.   0.   0.  18. 219. 253. 253. 253. 253. 253.\n",
      "  198. 182. 247. 241.   0.   0.   0.   0.   0.   0.   0.   0.   0.   0.]\n",
      " [  0.   0.   0.   0.   0.   0.   0.   0.  80. 156. 107. 253. 253. 205.\n",
      "   11.   0.  43. 154.   0.   0.   0.   0.   0.   0.   0.   0.   0.   0.]\n",
      " [  0.   0.   0.   0.   0.   0.   0.   0.   0.  14.   1. 154. 253.  90.\n",
      "    0.   0.   0.   0.   0.   0.   0.   0.   0.   0.   0.   0.   0.   0.]\n",
      " [  0.   0.   0.   0.   0.   0.   0.   0.   0.   0.   0. 139. 253. 190.\n",
      "    2.   0.   0.   0.   0.   0.   0.   0.   0.   0.   0.   0.   0.   0.]\n",
      " [  0.   0.   0.   0.   0.   0.   0.   0.   0.   0.   0.  11. 190. 253.\n",
      "   70.   0.   0.   0.   0.   0.   0.   0.   0.   0.   0.   0.   0.   0.]\n",
      " [  0.   0.   0.   0.   0.   0.   0.   0.   0.   0.   0.   0.  35. 241.\n",
      "  225. 160. 108.   1.   0.   0.   0.   0.   0.   0.   0.   0.   0.   0.]\n",
      " [  0.   0.   0.   0.   0.   0.   0.   0.   0.   0.   0.   0.   0.  81.\n",
      "  240. 253. 253. 119.  25.   0.   0.   0.   0.   0.   0.   0.   0.   0.]\n",
      " [  0.   0.   0.   0.   0.   0.   0.   0.   0.   0.   0.   0.   0.   0.\n",
      "   45. 186. 253. 253. 150.  27.   0.   0.   0.   0.   0.   0.   0.   0.]\n",
      " [  0.   0.   0.   0.   0.   0.   0.   0.   0.   0.   0.   0.   0.   0.\n",
      "    0.  16.  93. 252. 253. 187.   0.   0.   0.   0.   0.   0.   0.   0.]\n",
      " [  0.   0.   0.   0.   0.   0.   0.   0.   0.   0.   0.   0.   0.   0.\n",
      "    0.   0.   0. 249. 253. 249.  64.   0.   0.   0.   0.   0.   0.   0.]\n",
      " [  0.   0.   0.   0.   0.   0.   0.   0.   0.   0.   0.   0.   0.   0.\n",
      "   46. 130. 183. 253. 253. 207.   2.   0.   0.   0.   0.   0.   0.   0.]\n",
      " [  0.   0.   0.   0.   0.   0.   0.   0.   0.   0.   0.   0.  39. 148.\n",
      "  229. 253. 253. 253. 250. 182.   0.   0.   0.   0.   0.   0.   0.   0.]\n",
      " [  0.   0.   0.   0.   0.   0.   0.   0.   0.   0.  24. 114. 221. 253.\n",
      "  253. 253. 253. 201.  78.   0.   0.   0.   0.   0.   0.   0.   0.   0.]\n",
      " [  0.   0.   0.   0.   0.   0.   0.   0.  23.  66. 213. 253. 253. 253.\n",
      "  253. 198.  81.   2.   0.   0.   0.   0.   0.   0.   0.   0.   0.   0.]\n",
      " [  0.   0.   0.   0.   0.   0.  18. 171. 219. 253. 253. 253. 253. 195.\n",
      "   80.   9.   0.   0.   0.   0.   0.   0.   0.   0.   0.   0.   0.   0.]\n",
      " [  0.   0.   0.   0.  55. 172. 226. 253. 253. 253. 253. 244. 133.  11.\n",
      "    0.   0.   0.   0.   0.   0.   0.   0.   0.   0.   0.   0.   0.   0.]\n",
      " [  0.   0.   0.   0. 136. 253. 253. 253. 212. 135. 132.  16.   0.   0.\n",
      "    0.   0.   0.   0.   0.   0.   0.   0.   0.   0.   0.   0.   0.   0.]\n",
      " [  0.   0.   0.   0.   0.   0.   0.   0.   0.   0.   0.   0.   0.   0.\n",
      "    0.   0.   0.   0.   0.   0.   0.   0.   0.   0.   0.   0.   0.   0.]\n",
      " [  0.   0.   0.   0.   0.   0.   0.   0.   0.   0.   0.   0.   0.   0.\n",
      "    0.   0.   0.   0.   0.   0.   0.   0.   0.   0.   0.   0.   0.   0.]\n",
      " [  0.   0.   0.   0.   0.   0.   0.   0.   0.   0.   0.   0.   0.   0.\n",
      "    0.   0.   0.   0.   0.   0.   0.   0.   0.   0.   0.   0.   0.   0.]]\n"
     ]
    }
   ],
   "source": [
    "# Take a look at whether the data looks right\n",
    "print(data.shape) # 60000 x 28 x 28 x 1\n",
    "print(data[0].shape) # 28 x 28 x 1\n",
    "print(data[0, :, :, 0])"
   ]
  },
  {
   "cell_type": "code",
   "execution_count": 5,
   "metadata": {},
   "outputs": [
    {
     "data": {
      "image/png": "[encoded data removed]",
      "text/plain": [
       "<Figure size 280x280 with 1 Axes>"
      ]
     },
     "metadata": {
      "needs_background": "light"
     },
     "output_type": "display_data"
    },
    {
     "data": {
      "image/png": "[encoded data removed]",
      "text/plain": [
       "<Figure size 280x280 with 1 Axes>"
      ]
     },
     "metadata": {
      "needs_background": "light"
     },
     "output_type": "display_data"
    },
    {
     "data": {
      "image/png": "[encoded data removed]",
      "text/plain": [
       "<Figure size 280x280 with 1 Axes>"
      ]
     },
     "metadata": {
      "needs_background": "light"
     },
     "output_type": "display_data"
    },
    {
     "data": {
      "image/png": "[encoded data removed]",
      "text/plain": [
       "<Figure size 280x280 with 1 Axes>"
      ]
     },
     "metadata": {
      "needs_background": "light"
     },
     "output_type": "display_data"
    },
    {
     "data": {
      "image/png": "[encoded data removed]",
      "text/plain": [
       "<Figure size 280x280 with 1 Axes>"
      ]
     },
     "metadata": {
      "needs_background": "light"
     },
     "output_type": "display_data"
    },
    {
     "data": {
      "image/png": "[encoded data removed]",
      "text/plain": [
       "<Figure size 280x280 with 1 Axes>"
      ]
     },
     "metadata": {
      "needs_background": "light"
     },
     "output_type": "display_data"
    },
    {
     "data": {
      "image/png": "[encoded data removed]",
      "text/plain": [
       "<Figure size 280x280 with 1 Axes>"
      ]
     },
     "metadata": {
      "needs_background": "light"
     },
     "output_type": "display_data"
    },
    {
     "data": {
      "image/png": "[encoded data removed]",
      "text/plain": [
       "<Figure size 280x280 with 1 Axes>"
      ]
     },
     "metadata": {
      "needs_background": "light"
     },
     "output_type": "display_data"
    },
    {
     "data": {
      "image/png": "[encoded data removed]",
      "text/plain": [
       "<Figure size 280x280 with 1 Axes>"
      ]
     },
     "metadata": {
      "needs_background": "light"
     },
     "output_type": "display_data"
    },
    {
     "data": {
      "image/png": "[encoded data removed]",
      "text/plain": [
       "<Figure size 280x280 with 1 Axes>"
      ]
     },
     "metadata": {
      "needs_background": "light"
     },
     "output_type": "display_data"
    }
   ],
   "source": [
    "my_dpi=96\n",
    "length = 10 # len(data)\n",
    "for i in range(0, length):\n",
    "    fig_name = \"train_\" + str(i) + \".png\"\n",
    "    image = np.asarray(data[i]).squeeze()\n",
    "    plt.figure(figsize=(280/my_dpi, 280/my_dpi), dpi=my_dpi)\n",
    "    plt.axis('off')\n",
    "    plt.imshow(image)\n",
    "    # uncomment this part if you want to save the images\n",
    "#     plt.imsave(\"./train_img/\" + fig_name, arr=image, cmap='gray', format='png')"
   ]
  },
  {
   "cell_type": "code",
   "execution_count": 7,
   "metadata": {},
   "outputs": [
    {
     "data": {
      "text/plain": [
       "array([[5],\n",
       "       [0],\n",
       "       [4],\n",
       "       [1],\n",
       "       [9],\n",
       "       [2],\n",
       "       [1],\n",
       "       [3],\n",
       "       [1],\n",
       "       [4],\n",
       "       [3],\n",
       "       [5],\n",
       "       [3],\n",
       "       [6],\n",
       "       [1],\n",
       "       [7],\n",
       "       [2],\n",
       "       [8],\n",
       "       [6],\n",
       "       [9],\n",
       "       [4],\n",
       "       [0],\n",
       "       [9],\n",
       "       [1],\n",
       "       [1],\n",
       "       [2],\n",
       "       [4],\n",
       "       [3],\n",
       "       [2],\n",
       "       [7],\n",
       "       [3],\n",
       "       [8],\n",
       "       [6],\n",
       "       [9],\n",
       "       [0],\n",
       "       [5],\n",
       "       [6],\n",
       "       [0],\n",
       "       [7],\n",
       "       [6],\n",
       "       [1],\n",
       "       [8],\n",
       "       [7],\n",
       "       [9],\n",
       "       [3],\n",
       "       [9],\n",
       "       [8],\n",
       "       [5],\n",
       "       [9],\n",
       "       [3],\n",
       "       [3],\n",
       "       [0],\n",
       "       [7],\n",
       "       [4],\n",
       "       [9],\n",
       "       [8],\n",
       "       [0],\n",
       "       [9],\n",
       "       [4],\n",
       "       [1],\n",
       "       [4],\n",
       "       [4],\n",
       "       [6],\n",
       "       [0],\n",
       "       [4],\n",
       "       [5],\n",
       "       [6],\n",
       "       [1],\n",
       "       [0],\n",
       "       [0],\n",
       "       [1],\n",
       "       [7],\n",
       "       [1],\n",
       "       [6],\n",
       "       [3],\n",
       "       [0],\n",
       "       [2],\n",
       "       [1],\n",
       "       [1],\n",
       "       [7],\n",
       "       [9],\n",
       "       [0],\n",
       "       [2],\n",
       "       [6],\n",
       "       [7],\n",
       "       [8],\n",
       "       [3],\n",
       "       [9],\n",
       "       [0],\n",
       "       [4],\n",
       "       [6],\n",
       "       [7],\n",
       "       [4],\n",
       "       [6],\n",
       "       [8],\n",
       "       [0],\n",
       "       [7],\n",
       "       [8],\n",
       "       [3],\n",
       "       [1],\n",
       "       [5],\n",
       "       [7],\n",
       "       [1],\n",
       "       [7],\n",
       "       [1],\n",
       "       [1],\n",
       "       [6],\n",
       "       [3],\n",
       "       [0],\n",
       "       [2],\n",
       "       [9],\n",
       "       [3],\n",
       "       [1],\n",
       "       [1],\n",
       "       [0],\n",
       "       [4],\n",
       "       [9],\n",
       "       [2],\n",
       "       [0],\n",
       "       [0],\n",
       "       [2],\n",
       "       [0],\n",
       "       [2],\n",
       "       [7],\n",
       "       [1],\n",
       "       [8],\n",
       "       [6],\n",
       "       [4],\n",
       "       [1],\n",
       "       [6],\n",
       "       [3],\n",
       "       [4],\n",
       "       [5],\n",
       "       [9],\n",
       "       [1],\n",
       "       [3],\n",
       "       [3],\n",
       "       [8],\n",
       "       [5],\n",
       "       [4],\n",
       "       [7],\n",
       "       [7],\n",
       "       [4],\n",
       "       [2],\n",
       "       [8],\n",
       "       [5],\n",
       "       [8],\n",
       "       [6],\n",
       "       [7],\n",
       "       [3],\n",
       "       [4],\n",
       "       [6],\n",
       "       [1],\n",
       "       [9],\n",
       "       [9],\n",
       "       [6],\n",
       "       [0],\n",
       "       [3],\n",
       "       [7],\n",
       "       [2],\n",
       "       [8],\n",
       "       [2],\n",
       "       [9],\n",
       "       [4],\n",
       "       [4],\n",
       "       [6],\n",
       "       [4],\n",
       "       [9],\n",
       "       [7],\n",
       "       [0],\n",
       "       [9],\n",
       "       [2],\n",
       "       [9],\n",
       "       [5],\n",
       "       [1],\n",
       "       [5],\n",
       "       [9],\n",
       "       [1],\n",
       "       [2],\n",
       "       [3],\n",
       "       [2],\n",
       "       [3],\n",
       "       [5],\n",
       "       [9],\n",
       "       [1],\n",
       "       [7],\n",
       "       [6],\n",
       "       [2],\n",
       "       [8],\n",
       "       [2],\n",
       "       [2],\n",
       "       [5],\n",
       "       [0],\n",
       "       [7],\n",
       "       [4],\n",
       "       [9],\n",
       "       [7],\n",
       "       [8],\n",
       "       [3],\n",
       "       [2],\n",
       "       [1],\n",
       "       [1],\n",
       "       [8],\n",
       "       [3],\n",
       "       [6],\n",
       "       [1],\n",
       "       [0],\n",
       "       [3],\n",
       "       [1],\n",
       "       [0],\n",
       "       [0],\n",
       "       [1],\n",
       "       [7],\n",
       "       [2],\n",
       "       [7],\n",
       "       [3],\n",
       "       [0],\n",
       "       [4],\n",
       "       [6],\n",
       "       [5],\n",
       "       [2],\n",
       "       [6],\n",
       "       [4],\n",
       "       [7],\n",
       "       [1],\n",
       "       [8],\n",
       "       [9],\n",
       "       [9],\n",
       "       [3],\n",
       "       [0],\n",
       "       [7],\n",
       "       [1],\n",
       "       [0],\n",
       "       [2],\n",
       "       [0],\n",
       "       [3],\n",
       "       [5],\n",
       "       [4],\n",
       "       [6],\n",
       "       [5],\n",
       "       [8],\n",
       "       [6],\n",
       "       [3],\n",
       "       [7],\n",
       "       [5],\n",
       "       [8],\n",
       "       [0],\n",
       "       [9],\n",
       "       [1],\n",
       "       [0],\n",
       "       [3],\n",
       "       [1],\n",
       "       [2],\n",
       "       [2],\n",
       "       [3],\n",
       "       [3],\n",
       "       [6],\n",
       "       [4],\n",
       "       [7],\n",
       "       [5],\n",
       "       [0],\n",
       "       [6],\n",
       "       [2],\n",
       "       [7],\n",
       "       [9],\n",
       "       [8],\n",
       "       [5],\n",
       "       [9],\n",
       "       [2],\n",
       "       [1],\n",
       "       [1],\n",
       "       [4],\n",
       "       [4],\n",
       "       [5],\n",
       "       [6],\n",
       "       [4],\n",
       "       [1],\n",
       "       [2],\n",
       "       [5],\n",
       "       [3],\n",
       "       [9],\n",
       "       [3],\n",
       "       [9],\n",
       "       [0],\n",
       "       [5],\n",
       "       [9],\n",
       "       [6],\n",
       "       [5],\n",
       "       [7],\n",
       "       [4],\n",
       "       [1],\n",
       "       [3],\n",
       "       [4],\n",
       "       [0],\n",
       "       [4],\n",
       "       [8],\n",
       "       [0],\n",
       "       [4],\n",
       "       [3],\n",
       "       [6],\n",
       "       [8],\n",
       "       [7],\n",
       "       [6],\n",
       "       [0],\n",
       "       [9],\n",
       "       [7],\n",
       "       [5],\n",
       "       [7],\n",
       "       [2],\n",
       "       [1],\n",
       "       [1],\n",
       "       [6],\n",
       "       [8],\n",
       "       [9],\n",
       "       [4],\n",
       "       [1],\n",
       "       [5],\n",
       "       [2],\n",
       "       [2],\n",
       "       [9],\n",
       "       [0],\n",
       "       [3],\n",
       "       [9],\n",
       "       [6],\n",
       "       [7],\n",
       "       [2],\n",
       "       [0],\n",
       "       [3],\n",
       "       [5],\n",
       "       [4],\n",
       "       [3],\n",
       "       [6],\n",
       "       [5],\n",
       "       [8],\n",
       "       [9],\n",
       "       [5],\n",
       "       [4],\n",
       "       [7],\n",
       "       [4],\n",
       "       [2],\n",
       "       [7],\n",
       "       [3],\n",
       "       [4],\n",
       "       [8],\n",
       "       [9],\n",
       "       [1],\n",
       "       [9],\n",
       "       [2],\n",
       "       [8],\n",
       "       [7],\n",
       "       [9],\n",
       "       [1],\n",
       "       [8],\n",
       "       [7],\n",
       "       [4],\n",
       "       [1],\n",
       "       [3],\n",
       "       [1],\n",
       "       [1],\n",
       "       [0],\n",
       "       [2],\n",
       "       [3],\n",
       "       [9],\n",
       "       [4],\n",
       "       [9],\n",
       "       [2],\n",
       "       [1],\n",
       "       [6],\n",
       "       [8],\n",
       "       [4],\n",
       "       [7],\n",
       "       [7],\n",
       "       [4],\n",
       "       [4],\n",
       "       [9],\n",
       "       [2],\n",
       "       [5],\n",
       "       [7],\n",
       "       [2],\n",
       "       [4],\n",
       "       [4],\n",
       "       [2],\n",
       "       [1],\n",
       "       [9],\n",
       "       [7],\n",
       "       [2],\n",
       "       [8],\n",
       "       [7],\n",
       "       [6],\n",
       "       [9],\n",
       "       [2],\n",
       "       [2],\n",
       "       [3],\n",
       "       [8],\n",
       "       [1],\n",
       "       [6],\n",
       "       [5],\n",
       "       [1],\n",
       "       [1],\n",
       "       [0],\n",
       "       [2],\n",
       "       [6],\n",
       "       [4],\n",
       "       [5],\n",
       "       [8],\n",
       "       [3],\n",
       "       [1],\n",
       "       [5],\n",
       "       [1],\n",
       "       [9],\n",
       "       [2],\n",
       "       [7],\n",
       "       [4],\n",
       "       [4],\n",
       "       [4],\n",
       "       [8],\n",
       "       [1],\n",
       "       [5],\n",
       "       [8],\n",
       "       [9],\n",
       "       [5],\n",
       "       [6],\n",
       "       [7],\n",
       "       [9],\n",
       "       [9],\n",
       "       [3],\n",
       "       [7],\n",
       "       [0],\n",
       "       [9],\n",
       "       [0],\n",
       "       [6],\n",
       "       [6],\n",
       "       [2],\n",
       "       [3],\n",
       "       [9],\n",
       "       [0],\n",
       "       [7],\n",
       "       [5],\n",
       "       [4],\n",
       "       [8],\n",
       "       [0],\n",
       "       [9],\n",
       "       [4],\n",
       "       [1],\n",
       "       [2],\n",
       "       [8],\n",
       "       [7],\n",
       "       [1],\n",
       "       [2],\n",
       "       [6],\n",
       "       [1],\n",
       "       [0],\n",
       "       [3],\n",
       "       [0],\n",
       "       [1],\n",
       "       [1],\n",
       "       [8],\n",
       "       [2],\n",
       "       [0],\n",
       "       [3],\n",
       "       [9],\n",
       "       [4],\n",
       "       [0],\n",
       "       [5],\n",
       "       [0],\n",
       "       [6],\n",
       "       [1],\n",
       "       [7],\n",
       "       [7],\n",
       "       [8],\n",
       "       [1],\n",
       "       [9],\n",
       "       [2],\n",
       "       [0],\n",
       "       [5],\n",
       "       [1],\n",
       "       [2],\n",
       "       [2],\n",
       "       [7],\n",
       "       [3],\n",
       "       [5],\n",
       "       [4],\n",
       "       [9],\n",
       "       [7],\n",
       "       [1],\n",
       "       [8],\n",
       "       [3],\n",
       "       [9],\n",
       "       [6],\n",
       "       [0],\n",
       "       [3],\n",
       "       [1],\n",
       "       [1],\n",
       "       [2],\n",
       "       [6],\n",
       "       [3],\n",
       "       [5],\n",
       "       [7],\n",
       "       [6],\n",
       "       [8],\n",
       "       [3],\n",
       "       [9],\n",
       "       [5],\n",
       "       [8],\n",
       "       [5],\n",
       "       [7],\n",
       "       [6],\n",
       "       [1],\n",
       "       [1],\n",
       "       [3],\n",
       "       [1],\n",
       "       [7],\n",
       "       [5],\n",
       "       [5],\n",
       "       [5],\n",
       "       [2],\n",
       "       [5],\n",
       "       [8],\n",
       "       [7],\n",
       "       [0],\n",
       "       [9],\n",
       "       [7],\n",
       "       [7],\n",
       "       [5],\n",
       "       [0],\n",
       "       [9],\n",
       "       [0],\n",
       "       [0],\n",
       "       [8],\n",
       "       [9],\n",
       "       [2],\n",
       "       [4],\n",
       "       [8],\n",
       "       [1],\n",
       "       [6],\n",
       "       [1],\n",
       "       [6],\n",
       "       [5],\n",
       "       [1],\n",
       "       [8],\n",
       "       [3],\n",
       "       [4],\n",
       "       [0],\n",
       "       [5],\n",
       "       [5],\n",
       "       [8],\n",
       "       [3],\n",
       "       [6],\n",
       "       [2],\n",
       "       [3],\n",
       "       [9],\n",
       "       [2],\n",
       "       [1],\n",
       "       [1],\n",
       "       [5],\n",
       "       [2],\n",
       "       [1],\n",
       "       [3],\n",
       "       [2],\n",
       "       [8],\n",
       "       [7],\n",
       "       [3],\n",
       "       [7],\n",
       "       [2],\n",
       "       [4],\n",
       "       [6],\n",
       "       [9],\n",
       "       [7],\n",
       "       [2],\n",
       "       [4],\n",
       "       [2],\n",
       "       [8],\n",
       "       [1],\n",
       "       [1],\n",
       "       [3],\n",
       "       [8],\n",
       "       [4],\n",
       "       [0],\n",
       "       [6],\n",
       "       [5],\n",
       "       [9],\n",
       "       [3],\n",
       "       [0],\n",
       "       [9],\n",
       "       [2],\n",
       "       [4],\n",
       "       [7],\n",
       "       [1],\n",
       "       [2],\n",
       "       [9],\n",
       "       [4],\n",
       "       [2],\n",
       "       [6],\n",
       "       [1],\n",
       "       [8],\n",
       "       [9],\n",
       "       [0],\n",
       "       [6],\n",
       "       [6],\n",
       "       [7],\n",
       "       [9],\n",
       "       [9],\n",
       "       [8],\n",
       "       [0],\n",
       "       [1],\n",
       "       [4],\n",
       "       [4],\n",
       "       [6],\n",
       "       [7],\n",
       "       [1],\n",
       "       [5],\n",
       "       [7],\n",
       "       [0],\n",
       "       [3],\n",
       "       [5],\n",
       "       [8],\n",
       "       [4],\n",
       "       [7],\n",
       "       [1],\n",
       "       [2],\n",
       "       [5],\n",
       "       [9],\n",
       "       [5],\n",
       "       [6],\n",
       "       [7],\n",
       "       [5],\n",
       "       [9],\n",
       "       [8],\n",
       "       [8],\n",
       "       [3],\n",
       "       [6],\n",
       "       [9],\n",
       "       [7],\n",
       "       [0],\n",
       "       [7],\n",
       "       [5],\n",
       "       [7],\n",
       "       [1],\n",
       "       [1],\n",
       "       [0],\n",
       "       [7],\n",
       "       [9],\n",
       "       [2],\n",
       "       [3],\n",
       "       [7],\n",
       "       [3],\n",
       "       [2],\n",
       "       [4],\n",
       "       [1],\n",
       "       [6],\n",
       "       [2],\n",
       "       [7],\n",
       "       [5],\n",
       "       [5],\n",
       "       [7],\n",
       "       [4],\n",
       "       [0],\n",
       "       [2],\n",
       "       [6],\n",
       "       [3],\n",
       "       [6],\n",
       "       [4],\n",
       "       [0],\n",
       "       [4],\n",
       "       [2],\n",
       "       [6],\n",
       "       [0],\n",
       "       [0],\n",
       "       [0],\n",
       "       [0],\n",
       "       [3],\n",
       "       [1],\n",
       "       [6],\n",
       "       [2],\n",
       "       [2],\n",
       "       [3],\n",
       "       [1],\n",
       "       [4],\n",
       "       [1],\n",
       "       [5],\n",
       "       [4],\n",
       "       [6],\n",
       "       [4],\n",
       "       [7],\n",
       "       [2],\n",
       "       [8],\n",
       "       [7],\n",
       "       [9],\n",
       "       [2],\n",
       "       [0],\n",
       "       [5],\n",
       "       [1],\n",
       "       [4],\n",
       "       [2],\n",
       "       [8],\n",
       "       [3],\n",
       "       [2],\n",
       "       [4],\n",
       "       [1],\n",
       "       [5],\n",
       "       [4],\n",
       "       [6],\n",
       "       [0],\n",
       "       [7],\n",
       "       [9],\n",
       "       [8],\n",
       "       [4],\n",
       "       [9],\n",
       "       [8],\n",
       "       [0],\n",
       "       [1],\n",
       "       [1],\n",
       "       [0],\n",
       "       [2],\n",
       "       [2],\n",
       "       [3],\n",
       "       [2],\n",
       "       [4],\n",
       "       [4],\n",
       "       [5],\n",
       "       [8],\n",
       "       [6],\n",
       "       [5],\n",
       "       [7],\n",
       "       [7],\n",
       "       [8],\n",
       "       [8],\n",
       "       [9],\n",
       "       [7],\n",
       "       [4],\n",
       "       [7],\n",
       "       [3],\n",
       "       [2],\n",
       "       [0],\n",
       "       [8],\n",
       "       [6],\n",
       "       [8],\n",
       "       [6],\n",
       "       [1],\n",
       "       [6],\n",
       "       [8],\n",
       "       [9],\n",
       "       [4],\n",
       "       [0],\n",
       "       [9],\n",
       "       [0],\n",
       "       [4],\n",
       "       [1],\n",
       "       [5],\n",
       "       [4],\n",
       "       [7],\n",
       "       [5],\n",
       "       [3],\n",
       "       [7],\n",
       "       [4],\n",
       "       [9],\n",
       "       [8],\n",
       "       [5],\n",
       "       [8],\n",
       "       [6],\n",
       "       [3],\n",
       "       [8],\n",
       "       [6],\n",
       "       [9],\n",
       "       [9],\n",
       "       [1],\n",
       "       [8],\n",
       "       [3],\n",
       "       [5],\n",
       "       [8],\n",
       "       [6],\n",
       "       [5],\n",
       "       [9],\n",
       "       [7],\n",
       "       [2],\n",
       "       [5],\n",
       "       [0],\n",
       "       [8],\n",
       "       [5],\n",
       "       [1],\n",
       "       [1],\n",
       "       [0],\n",
       "       [9],\n",
       "       [1],\n",
       "       [8],\n",
       "       [6],\n",
       "       [7],\n",
       "       [0],\n",
       "       [9],\n",
       "       [3],\n",
       "       [0],\n",
       "       [8],\n",
       "       [8],\n",
       "       [9],\n",
       "       [6],\n",
       "       [7],\n",
       "       [8],\n",
       "       [4],\n",
       "       [7],\n",
       "       [5],\n",
       "       [9],\n",
       "       [2],\n",
       "       [6],\n",
       "       [7],\n",
       "       [4],\n",
       "       [5],\n",
       "       [9],\n",
       "       [2],\n",
       "       [3],\n",
       "       [1],\n",
       "       [6],\n",
       "       [3],\n",
       "       [9],\n",
       "       [2],\n",
       "       [2],\n",
       "       [5],\n",
       "       [6],\n",
       "       [8],\n",
       "       [0],\n",
       "       [7],\n",
       "       [7],\n",
       "       [1],\n",
       "       [9],\n",
       "       [8],\n",
       "       [7],\n",
       "       [0],\n",
       "       [9],\n",
       "       [9],\n",
       "       [4],\n",
       "       [6],\n",
       "       [2],\n",
       "       [8],\n",
       "       [5],\n",
       "       [1],\n",
       "       [4],\n",
       "       [1],\n",
       "       [5],\n",
       "       [5],\n",
       "       [1],\n",
       "       [7],\n",
       "       [3],\n",
       "       [6],\n",
       "       [4],\n",
       "       [3],\n",
       "       [2],\n",
       "       [5],\n",
       "       [6],\n",
       "       [4],\n",
       "       [4],\n",
       "       [0],\n",
       "       [4],\n",
       "       [4],\n",
       "       [6],\n",
       "       [7],\n",
       "       [2],\n",
       "       [4],\n",
       "       [3],\n",
       "       [3],\n",
       "       [8],\n",
       "       [0],\n",
       "       [0],\n",
       "       [3],\n",
       "       [2],\n",
       "       [2],\n",
       "       [9],\n",
       "       [8],\n",
       "       [2],\n",
       "       [3],\n",
       "       [7],\n",
       "       [0],\n",
       "       [1],\n",
       "       [1],\n",
       "       [0],\n",
       "       [2],\n",
       "       [3],\n",
       "       [3],\n",
       "       [8],\n",
       "       [4],\n",
       "       [3],\n",
       "       [5],\n",
       "       [7],\n",
       "       [6],\n",
       "       [4],\n",
       "       [7],\n",
       "       [7],\n",
       "       [8],\n",
       "       [5],\n",
       "       [9],\n",
       "       [7],\n",
       "       [0],\n",
       "       [3],\n",
       "       [1],\n",
       "       [6],\n",
       "       [2],\n",
       "       [4],\n",
       "       [3],\n",
       "       [4],\n",
       "       [4],\n",
       "       [7],\n",
       "       [5],\n",
       "       [9],\n",
       "       [6],\n",
       "       [9],\n",
       "       [0],\n",
       "       [7],\n",
       "       [1],\n",
       "       [4],\n",
       "       [2],\n",
       "       [7],\n",
       "       [3],\n",
       "       [6],\n",
       "       [7],\n",
       "       [5],\n",
       "       [8],\n",
       "       [4],\n",
       "       [5],\n",
       "       [5],\n",
       "       [2],\n",
       "       [7],\n",
       "       [1],\n",
       "       [1],\n",
       "       [5],\n",
       "       [6],\n",
       "       [8],\n",
       "       [5],\n",
       "       [8],\n",
       "       [4],\n",
       "       [0],\n",
       "       [7],\n",
       "       [9],\n",
       "       [9],\n",
       "       [2],\n",
       "       [9],\n",
       "       [7],\n",
       "       [7],\n",
       "       [8],\n",
       "       [7],\n",
       "       [4],\n",
       "       [2],\n",
       "       [6],\n",
       "       [9],\n",
       "       [1],\n",
       "       [7],\n",
       "       [0],\n",
       "       [6],\n",
       "       [4],\n",
       "       [2],\n",
       "       [5],\n",
       "       [7],\n",
       "       [0],\n",
       "       [7],\n",
       "       [1],\n",
       "       [0],\n",
       "       [3],\n",
       "       [7],\n",
       "       [6],\n",
       "       [5],\n",
       "       [0],\n",
       "       [6],\n",
       "       [1],\n",
       "       [5],\n",
       "       [1],\n",
       "       [7],\n",
       "       [8],\n",
       "       [5],\n",
       "       [0],\n",
       "       [3],\n",
       "       [4],\n",
       "       [7],\n",
       "       [7],\n",
       "       [5],\n",
       "       [7],\n",
       "       [8],\n",
       "       [6],\n",
       "       [9],\n",
       "       [3],\n",
       "       [8],\n",
       "       [6],\n",
       "       [1],\n",
       "       [0],\n",
       "       [9],\n",
       "       [7],\n",
       "       [1],\n",
       "       [3],\n",
       "       [0],\n",
       "       [5],\n",
       "       [6],\n",
       "       [4],\n",
       "       [4],\n",
       "       [2],\n",
       "       [4],\n",
       "       [4],\n",
       "       [3],\n",
       "       [1],\n",
       "       [7],\n",
       "       [7],\n",
       "       [6],\n",
       "       [0],\n",
       "       [3],\n",
       "       [6]])"
      ]
     },
     "execution_count": 7,
     "metadata": {},
     "output_type": "execute_result"
    }
   ],
   "source": [
    "FUNKY_SIZE = 30000\n",
    "\n",
    "f = gzip.open('../data/fullDataset/train-labels-idx1-ubyte.gz','r') # keep this in! even if we loaded it earlier. or you'll run into some error\n",
    "f.read(8)\n",
    "\n",
    "funky_y = np.empty(shape = FUNKY_SIZE, dtype = int)\n",
    "\n",
    "for i in range(0, FUNKY_SIZE):  \n",
    "    buf = f.read(1)\n",
    "    funky_y[i] = np.frombuffer(buf, dtype=np.uint8)\n",
    "\n",
    "\n",
    "funky_y = funky_y.reshape(-1, 1)\n",
    "funky_y[:1000]"
   ]
  },
  {
   "cell_type": "markdown",
   "metadata": {},
   "source": [
    "## Reading training images/labels from the original dataset"
   ]
  },
  {
   "cell_type": "code",
   "execution_count": 8,
   "metadata": {},
   "outputs": [],
   "source": [
    "def training_images():\n",
    "    with gzip.open('../data/fullDataset/train-images-idx3-ubyte.gz', 'r') as f:\n",
    "        # first 4 bytes is a magic number\n",
    "        magic_number = int.from_bytes(f.read(4), 'big')\n",
    "        # second 4 bytes is the number of images\n",
    "        image_count = int.from_bytes(f.read(4), 'big')\n",
    "        # third 4 bytes is the row count\n",
    "        row_count = int.from_bytes(f.read(4), 'big')\n",
    "        # fourth 4 bytes is the column count\n",
    "        column_count = int.from_bytes(f.read(4), 'big')\n",
    "        # rest is the image pixel data, each pixel is stored as an unsigned byte\n",
    "        # pixel values are 0 to 255\n",
    "        image_data = f.read()\n",
    "        images = np.frombuffer(image_data, dtype=np.uint8)\\\n",
    "            .reshape((image_count, row_count, column_count))\n",
    "        return images"
   ]
  },
  {
   "cell_type": "code",
   "execution_count": 71,
   "metadata": {},
   "outputs": [],
   "source": [
    "def training_labels():\n",
    "    with gzip.open('../data/fullDataset/train-labels-idx1-ubyte.gz', 'r') as f:\n",
    "        # first 4 bytes is a magic number\n",
    "        magic_number = int.from_bytes(f.read(4), 'big')\n",
    "        # second 4 bytes is the number of labels\n",
    "        label_count = int.from_bytes(f.read(4), 'big')\n",
    "        # rest is the label data, each label is stored as unsigned byte\n",
    "        # label values are 0 to 9\n",
    "        label_data = f.read()\n",
    "        labels = np.frombuffer(label_data, dtype=np.uint8)\n",
    "        return labels"
   ]
  },
  {
   "cell_type": "code",
   "execution_count": 72,
   "metadata": {},
   "outputs": [],
   "source": [
    "images = training_images()\n",
    "labels = training_labels()"
   ]
  },
  {
   "cell_type": "code",
   "execution_count": 80,
   "metadata": {},
   "outputs": [
    {
     "data": {
      "text/plain": [
       "array([[[  0,   0,   0,   0,   0,   0,   0,   0,   0,   0,   0,   0,\n",
       "           0,   0,   0,   0,   0,   0,   0,   0,   0,   0,   0,   0,\n",
       "           0,   0,   0,   0],\n",
       "        [  0,   0,   0,   0,   0,   0,   0,   0,   0,   0,   0,   0,\n",
       "           0,   0,   0,   0,   0,   0,   0,   0,   0,   0,   0,   0,\n",
       "           0,   0,   0,   0],\n",
       "        [  0,   0,   0,   0,   0,   0,   0,   0,   0,   0,   0,   0,\n",
       "           0,   0,   0,   0,   0,   0,   0,   0,   0,   0,   0,   0,\n",
       "           0,   0,   0,   0],\n",
       "        [  0,   0,   0,   0,   0,   0,   0,   0,   0,   0,   0,   0,\n",
       "           0,   0,   0,   0,   0,   0,   0,   0,   0,   0,   0,   0,\n",
       "           0,   0,   0,   0],\n",
       "        [  0,   0,   0,   0,   0,   0,   0,   0,   0,   0,   0,   0,\n",
       "           0,   0,   0,   0,   0,   0,   0,   0,   0,   0,   0,   0,\n",
       "           0,   0,   0,   0],\n",
       "        [  0,   0,   0,   0,   0,   0,   0,   0,   0,   0,   0,   0,\n",
       "           3,  18,  18,  18, 126, 136, 175,  26, 166, 255, 247, 127,\n",
       "           0,   0,   0,   0],\n",
       "        [  0,   0,   0,   0,   0,   0,   0,   0,  30,  36,  94, 154,\n",
       "         170, 253, 253, 253, 253, 253, 225, 172, 253, 242, 195,  64,\n",
       "           0,   0,   0,   0],\n",
       "        [  0,   0,   0,   0,   0,   0,   0,  49, 238, 253, 253, 253,\n",
       "         253, 253, 253, 253, 253, 251,  93,  82,  82,  56,  39,   0,\n",
       "           0,   0,   0,   0],\n",
       "        [  0,   0,   0,   0,   0,   0,   0,  18, 219, 253, 253, 253,\n",
       "         253, 253, 198, 182, 247, 241,   0,   0,   0,   0,   0,   0,\n",
       "           0,   0,   0,   0],\n",
       "        [  0,   0,   0,   0,   0,   0,   0,   0,  80, 156, 107, 253,\n",
       "         253, 205,  11,   0,  43, 154,   0,   0,   0,   0,   0,   0,\n",
       "           0,   0,   0,   0],\n",
       "        [  0,   0,   0,   0,   0,   0,   0,   0,   0,  14,   1, 154,\n",
       "         253,  90,   0,   0,   0,   0,   0,   0,   0,   0,   0,   0,\n",
       "           0,   0,   0,   0],\n",
       "        [  0,   0,   0,   0,   0,   0,   0,   0,   0,   0,   0, 139,\n",
       "         253, 190,   2,   0,   0,   0,   0,   0,   0,   0,   0,   0,\n",
       "           0,   0,   0,   0],\n",
       "        [  0,   0,   0,   0,   0,   0,   0,   0,   0,   0,   0,  11,\n",
       "         190, 253,  70,   0,   0,   0,   0,   0,   0,   0,   0,   0,\n",
       "           0,   0,   0,   0],\n",
       "        [  0,   0,   0,   0,   0,   0,   0,   0,   0,   0,   0,   0,\n",
       "          35, 241, 225, 160, 108,   1,   0,   0,   0,   0,   0,   0,\n",
       "           0,   0,   0,   0],\n",
       "        [  0,   0,   0,   0,   0,   0,   0,   0,   0,   0,   0,   0,\n",
       "           0,  81, 240, 253, 253, 119,  25,   0,   0,   0,   0,   0,\n",
       "           0,   0,   0,   0],\n",
       "        [  0,   0,   0,   0,   0,   0,   0,   0,   0,   0,   0,   0,\n",
       "           0,   0,  45, 186, 253, 253, 150,  27,   0,   0,   0,   0,\n",
       "           0,   0,   0,   0],\n",
       "        [  0,   0,   0,   0,   0,   0,   0,   0,   0,   0,   0,   0,\n",
       "           0,   0,   0,  16,  93, 252, 253, 187,   0,   0,   0,   0,\n",
       "           0,   0,   0,   0],\n",
       "        [  0,   0,   0,   0,   0,   0,   0,   0,   0,   0,   0,   0,\n",
       "           0,   0,   0,   0,   0, 249, 253, 249,  64,   0,   0,   0,\n",
       "           0,   0,   0,   0],\n",
       "        [  0,   0,   0,   0,   0,   0,   0,   0,   0,   0,   0,   0,\n",
       "           0,   0,  46, 130, 183, 253, 253, 207,   2,   0,   0,   0,\n",
       "           0,   0,   0,   0],\n",
       "        [  0,   0,   0,   0,   0,   0,   0,   0,   0,   0,   0,   0,\n",
       "          39, 148, 229, 253, 253, 253, 250, 182,   0,   0,   0,   0,\n",
       "           0,   0,   0,   0],\n",
       "        [  0,   0,   0,   0,   0,   0,   0,   0,   0,   0,  24, 114,\n",
       "         221, 253, 253, 253, 253, 201,  78,   0,   0,   0,   0,   0,\n",
       "           0,   0,   0,   0],\n",
       "        [  0,   0,   0,   0,   0,   0,   0,   0,  23,  66, 213, 253,\n",
       "         253, 253, 253, 198,  81,   2,   0,   0,   0,   0,   0,   0,\n",
       "           0,   0,   0,   0],\n",
       "        [  0,   0,   0,   0,   0,   0,  18, 171, 219, 253, 253, 253,\n",
       "         253, 195,  80,   9,   0,   0,   0,   0,   0,   0,   0,   0,\n",
       "           0,   0,   0,   0],\n",
       "        [  0,   0,   0,   0,  55, 172, 226, 253, 253, 253, 253, 244,\n",
       "         133,  11,   0,   0,   0,   0,   0,   0,   0,   0,   0,   0,\n",
       "           0,   0,   0,   0],\n",
       "        [  0,   0,   0,   0, 136, 253, 253, 253, 212, 135, 132,  16,\n",
       "           0,   0,   0,   0,   0,   0,   0,   0,   0,   0,   0,   0,\n",
       "           0,   0,   0,   0],\n",
       "        [  0,   0,   0,   0,   0,   0,   0,   0,   0,   0,   0,   0,\n",
       "           0,   0,   0,   0,   0,   0,   0,   0,   0,   0,   0,   0,\n",
       "           0,   0,   0,   0],\n",
       "        [  0,   0,   0,   0,   0,   0,   0,   0,   0,   0,   0,   0,\n",
       "           0,   0,   0,   0,   0,   0,   0,   0,   0,   0,   0,   0,\n",
       "           0,   0,   0,   0],\n",
       "        [  0,   0,   0,   0,   0,   0,   0,   0,   0,   0,   0,   0,\n",
       "           0,   0,   0,   0,   0,   0,   0,   0,   0,   0,   0,   0,\n",
       "           0,   0,   0,   0]]], dtype=uint8)"
      ]
     },
     "execution_count": 80,
     "metadata": {},
     "output_type": "execute_result"
    }
   ],
   "source": [
    "# check first image to see what the data structure looks like\n",
    "images[:1]"
   ]
  },
  {
   "cell_type": "code",
   "execution_count": 89,
   "metadata": {},
   "outputs": [],
   "source": [
    "# convert to 0 and 1's \n",
    "images = (images.astype('float32')  / 255.0)\n",
    "images = images.reshape(len(images), 28, 28) # reshape it\n",
    "\n",
    "# labels\n",
    "labels = labels.astype('float32')\n",
    "\n",
    "# change label data structure from array to array of arrays\n",
    "label_arrOfArr = []\n",
    "for i in labels:\n",
    "    label_arrOfArr.append([i])\n",
    "label_npArr = np.asarray(label_arrOfArr) # convert to numpy array"
   ]
  },
  {
   "cell_type": "code",
   "execution_count": 85,
   "metadata": {},
   "outputs": [
    {
     "name": "stdout",
     "output_type": "stream",
     "text": [
      "(60000, 28, 28)\n",
      "[5 0 4 ... 5 6 8]\n",
      "60000\n"
     ]
    }
   ],
   "source": [
    "print(images.shape) # see if data read in correctly\n",
    "print(labels) # look at labels\n",
    "print(len(labels)) # check if no of labels match up"
   ]
  },
  {
   "cell_type": "code",
   "execution_count": 14,
   "metadata": {},
   "outputs": [],
   "source": [
    "# save images to local folder & read them\n",
    "my_dpi = 96\n",
    "for i in range(0,30001): #\n",
    "    fig_name = \"train_\" + str(i) + \".png\"\n",
    "    image = np.asarray(images[i]).squeeze()\n",
    "    \n",
    "    #     plot all figures to check \n",
    "    #     plt.figure(figsize=(280/my_dpi, 280/my_dpi), dpi=my_dpi)\n",
    "    #     plt.axis('off')\n",
    "    #     plt.imshow(image) \n",
    "\n",
    "    #     save the figures to /data/train_img folder\n",
    "    #     plt.imsave(\"../data/train_img/\" + fig_name, arr=image, cmap='gray', format='png')"
   ]
  },
  {
   "cell_type": "code",
   "execution_count": 226,
   "metadata": {
    "scrolled": true
   },
   "outputs": [
    {
     "name": "stdout",
     "output_type": "stream",
     "text": [
      "[3.]\n"
     ]
    },
    {
     "data": {
      "image/png": "[encoded data removed]",
      "text/plain": [
       "<Figure size 280x280 with 1 Axes>"
      ]
     },
     "metadata": {
      "needs_background": "light"
     },
     "output_type": "display_data"
    }
   ],
   "source": [
    "# check small chunks of the images to see that its labels line up\n",
    "my_dpi = 96\n",
    "j = 50000\n",
    "for i in range(j,j+1): #\n",
    "    fig_name = \"train_\" + str(i) + \".png\"\n",
    "    image = np.asarray(images[i]).squeeze()\n",
    "    \n",
    "    print(labels[j:j+1])\n",
    "    # plot all figures to check \n",
    "    plt.figure(figsize=(280/my_dpi, 280/my_dpi), dpi=my_dpi)\n",
    "    plt.axis('off')\n",
    "    plt.imshow(image) "
   ]
  },
  {
   "cell_type": "markdown",
   "metadata": {},
   "source": [
    "## Split train/test"
   ]
  },
  {
   "cell_type": "code",
   "execution_count": 192,
   "metadata": {},
   "outputs": [
    {
     "name": "stdout",
     "output_type": "stream",
     "text": [
      "(48000, 28, 28)\n",
      "(12000, 28, 28)\n",
      "(48000, 10)\n",
      "(12000, 10)\n"
     ]
    }
   ],
   "source": [
    "hot_encoded_labels = pd.get_dummies(labels).values \n",
    "# splits the data\n",
    "X_train, X_test, y_train, y_test = train_test_split(images, hot_encoded_labels, test_size = 0.2, random_state=1)\n",
    "\n",
    "# split looks right\n",
    "print(X_train.shape)\n",
    "print(X_test.shape)\n",
    "print(y_train.shape)\n",
    "print(y_test.shape)"
   ]
  },
  {
   "cell_type": "code",
   "execution_count": 187,
   "metadata": {},
   "outputs": [
    {
     "data": {
      "text/plain": [
       "array([[[[0.],\n",
       "         [0.],\n",
       "         [0.],\n",
       "         ...,\n",
       "         [0.],\n",
       "         [0.],\n",
       "         [0.]],\n",
       "\n",
       "        [[0.],\n",
       "         [0.],\n",
       "         [0.],\n",
       "         ...,\n",
       "         [0.],\n",
       "         [0.],\n",
       "         [0.]],\n",
       "\n",
       "        [[0.],\n",
       "         [0.],\n",
       "         [0.],\n",
       "         ...,\n",
       "         [0.],\n",
       "         [0.],\n",
       "         [0.]],\n",
       "\n",
       "        ...,\n",
       "\n",
       "        [[0.],\n",
       "         [0.],\n",
       "         [0.],\n",
       "         ...,\n",
       "         [0.],\n",
       "         [0.],\n",
       "         [0.]],\n",
       "\n",
       "        [[0.],\n",
       "         [0.],\n",
       "         [0.],\n",
       "         ...,\n",
       "         [0.],\n",
       "         [0.],\n",
       "         [0.]],\n",
       "\n",
       "        [[0.],\n",
       "         [0.],\n",
       "         [0.],\n",
       "         ...,\n",
       "         [0.],\n",
       "         [0.],\n",
       "         [0.]]],\n",
       "\n",
       "\n",
       "       [[[0.],\n",
       "         [0.],\n",
       "         [0.],\n",
       "         ...,\n",
       "         [0.],\n",
       "         [0.],\n",
       "         [0.]],\n",
       "\n",
       "        [[0.],\n",
       "         [0.],\n",
       "         [0.],\n",
       "         ...,\n",
       "         [0.],\n",
       "         [0.],\n",
       "         [0.]],\n",
       "\n",
       "        [[0.],\n",
       "         [0.],\n",
       "         [0.],\n",
       "         ...,\n",
       "         [0.],\n",
       "         [0.],\n",
       "         [0.]],\n",
       "\n",
       "        ...,\n",
       "\n",
       "        [[0.],\n",
       "         [0.],\n",
       "         [0.],\n",
       "         ...,\n",
       "         [0.],\n",
       "         [0.],\n",
       "         [0.]],\n",
       "\n",
       "        [[0.],\n",
       "         [0.],\n",
       "         [0.],\n",
       "         ...,\n",
       "         [0.],\n",
       "         [0.],\n",
       "         [0.]],\n",
       "\n",
       "        [[0.],\n",
       "         [0.],\n",
       "         [0.],\n",
       "         ...,\n",
       "         [0.],\n",
       "         [0.],\n",
       "         [0.]]],\n",
       "\n",
       "\n",
       "       [[[0.],\n",
       "         [0.],\n",
       "         [0.],\n",
       "         ...,\n",
       "         [0.],\n",
       "         [0.],\n",
       "         [0.]],\n",
       "\n",
       "        [[0.],\n",
       "         [0.],\n",
       "         [0.],\n",
       "         ...,\n",
       "         [0.],\n",
       "         [0.],\n",
       "         [0.]],\n",
       "\n",
       "        [[0.],\n",
       "         [0.],\n",
       "         [0.],\n",
       "         ...,\n",
       "         [0.],\n",
       "         [0.],\n",
       "         [0.]],\n",
       "\n",
       "        ...,\n",
       "\n",
       "        [[0.],\n",
       "         [0.],\n",
       "         [0.],\n",
       "         ...,\n",
       "         [0.],\n",
       "         [0.],\n",
       "         [0.]],\n",
       "\n",
       "        [[0.],\n",
       "         [0.],\n",
       "         [0.],\n",
       "         ...,\n",
       "         [0.],\n",
       "         [0.],\n",
       "         [0.]],\n",
       "\n",
       "        [[0.],\n",
       "         [0.],\n",
       "         [0.],\n",
       "         ...,\n",
       "         [0.],\n",
       "         [0.],\n",
       "         [0.]]],\n",
       "\n",
       "\n",
       "       ...,\n",
       "\n",
       "\n",
       "       [[[0.],\n",
       "         [0.],\n",
       "         [0.],\n",
       "         ...,\n",
       "         [0.],\n",
       "         [0.],\n",
       "         [0.]],\n",
       "\n",
       "        [[0.],\n",
       "         [0.],\n",
       "         [0.],\n",
       "         ...,\n",
       "         [0.],\n",
       "         [0.],\n",
       "         [0.]],\n",
       "\n",
       "        [[0.],\n",
       "         [0.],\n",
       "         [0.],\n",
       "         ...,\n",
       "         [0.],\n",
       "         [0.],\n",
       "         [0.]],\n",
       "\n",
       "        ...,\n",
       "\n",
       "        [[0.],\n",
       "         [0.],\n",
       "         [0.],\n",
       "         ...,\n",
       "         [0.],\n",
       "         [0.],\n",
       "         [0.]],\n",
       "\n",
       "        [[0.],\n",
       "         [0.],\n",
       "         [0.],\n",
       "         ...,\n",
       "         [0.],\n",
       "         [0.],\n",
       "         [0.]],\n",
       "\n",
       "        [[0.],\n",
       "         [0.],\n",
       "         [0.],\n",
       "         ...,\n",
       "         [0.],\n",
       "         [0.],\n",
       "         [0.]]],\n",
       "\n",
       "\n",
       "       [[[0.],\n",
       "         [0.],\n",
       "         [0.],\n",
       "         ...,\n",
       "         [0.],\n",
       "         [0.],\n",
       "         [0.]],\n",
       "\n",
       "        [[0.],\n",
       "         [0.],\n",
       "         [0.],\n",
       "         ...,\n",
       "         [0.],\n",
       "         [0.],\n",
       "         [0.]],\n",
       "\n",
       "        [[0.],\n",
       "         [0.],\n",
       "         [0.],\n",
       "         ...,\n",
       "         [0.],\n",
       "         [0.],\n",
       "         [0.]],\n",
       "\n",
       "        ...,\n",
       "\n",
       "        [[0.],\n",
       "         [0.],\n",
       "         [0.],\n",
       "         ...,\n",
       "         [0.],\n",
       "         [0.],\n",
       "         [0.]],\n",
       "\n",
       "        [[0.],\n",
       "         [0.],\n",
       "         [0.],\n",
       "         ...,\n",
       "         [0.],\n",
       "         [0.],\n",
       "         [0.]],\n",
       "\n",
       "        [[0.],\n",
       "         [0.],\n",
       "         [0.],\n",
       "         ...,\n",
       "         [0.],\n",
       "         [0.],\n",
       "         [0.]]],\n",
       "\n",
       "\n",
       "       [[[0.],\n",
       "         [0.],\n",
       "         [0.],\n",
       "         ...,\n",
       "         [0.],\n",
       "         [0.],\n",
       "         [0.]],\n",
       "\n",
       "        [[0.],\n",
       "         [0.],\n",
       "         [0.],\n",
       "         ...,\n",
       "         [0.],\n",
       "         [0.],\n",
       "         [0.]],\n",
       "\n",
       "        [[0.],\n",
       "         [0.],\n",
       "         [0.],\n",
       "         ...,\n",
       "         [0.],\n",
       "         [0.],\n",
       "         [0.]],\n",
       "\n",
       "        ...,\n",
       "\n",
       "        [[0.],\n",
       "         [0.],\n",
       "         [0.],\n",
       "         ...,\n",
       "         [0.],\n",
       "         [0.],\n",
       "         [0.]],\n",
       "\n",
       "        [[0.],\n",
       "         [0.],\n",
       "         [0.],\n",
       "         ...,\n",
       "         [0.],\n",
       "         [0.],\n",
       "         [0.]],\n",
       "\n",
       "        [[0.],\n",
       "         [0.],\n",
       "         [0.],\n",
       "         ...,\n",
       "         [0.],\n",
       "         [0.],\n",
       "         [0.]]]], dtype=float32)"
      ]
     },
     "execution_count": 187,
     "metadata": {},
     "output_type": "execute_result"
    }
   ],
   "source": [
    "X_train"
   ]
  },
  {
   "cell_type": "code",
   "execution_count": 188,
   "metadata": {},
   "outputs": [
    {
     "data": {
      "text/plain": [
       "array([[1.],\n",
       "       [3.],\n",
       "       [4.],\n",
       "       ...,\n",
       "       [0.],\n",
       "       [9.],\n",
       "       [0.]], dtype=float32)"
      ]
     },
     "execution_count": 188,
     "metadata": {},
     "output_type": "execute_result"
    }
   ],
   "source": [
    "y_train"
   ]
  },
  {
   "cell_type": "markdown",
   "metadata": {},
   "source": [
    "# Model (original data)"
   ]
  },
  {
   "cell_type": "code",
   "execution_count": 137,
   "metadata": {},
   "outputs": [],
   "source": [
    "# set some globals, which are used across the remaining functions\n",
    "Image_width = 28\n",
    "Image_height = 28\n",
    "Image_Channels = 1\n",
    "IMAGE_SHAPE = (Image_width, Image_height, Image_Channels)\n",
    "NUM_CLASSES = 10\n",
    "\n",
    "# training parameters\n",
    "NUM_EPOCHS = 30\n",
    "BATCH_SIZE = 128"
   ]
  },
  {
   "cell_type": "code",
   "execution_count": 102,
   "metadata": {
    "scrolled": true
   },
   "outputs": [
    {
     "name": "stdout",
     "output_type": "stream",
     "text": [
      "Model: \"sequential_2\"\n",
      "_________________________________________________________________\n",
      "Layer (type)                 Output Shape              Param #   \n",
      "=================================================================\n",
      "flatten_2 (Flatten)          (None, 784)               0         \n",
      "_________________________________________________________________\n",
      "dense_10 (Dense)             (None, 512)               401920    \n",
      "_________________________________________________________________\n",
      "dense_11 (Dense)             (None, 256)               131328    \n",
      "_________________________________________________________________\n",
      "dense_12 (Dense)             (None, 128)               32896     \n",
      "_________________________________________________________________\n",
      "dense_13 (Dense)             (None, 50)                6450      \n",
      "_________________________________________________________________\n",
      "dense_14 (Dense)             (None, 10)                510       \n",
      "=================================================================\n",
      "Total params: 573,104\n",
      "Trainable params: 573,104\n",
      "Non-trainable params: 0\n",
      "_________________________________________________________________\n",
      "Epoch 1/25\n",
      "1500/1500 [==============================] - 12s 7ms/step - loss: 2.3020 - accuracy: 0.1106\n",
      "Epoch 2/25\n",
      "1500/1500 [==============================] - 11s 7ms/step - loss: 2.3016 - accuracy: 0.1097\n",
      "Epoch 3/25\n",
      "1500/1500 [==============================] - 10s 7ms/step - loss: 2.3013 - accuracy: 0.1117\n",
      "Epoch 4/25\n",
      "1500/1500 [==============================] - 11s 7ms/step - loss: 2.3009 - accuracy: 0.1140\n",
      "Epoch 5/25\n",
      "1500/1500 [==============================] - 11s 7ms/step - loss: 2.3012 - accuracy: 0.1118\n",
      "Epoch 6/25\n",
      "1500/1500 [==============================] - 11s 7ms/step - loss: 2.3014 - accuracy: 0.1115\n",
      "Epoch 7/25\n",
      "1500/1500 [==============================] - 11s 7ms/step - loss: 2.3015 - accuracy: 0.1112\n",
      "Epoch 8/25\n",
      "1500/1500 [==============================] - 11s 7ms/step - loss: 2.3012 - accuracy: 0.1136 0s - los\n",
      "Epoch 9/25\n",
      "1500/1500 [==============================] - 10s 7ms/step - loss: 2.3015 - accuracy: 0.1100\n",
      "Epoch 10/25\n",
      "1500/1500 [==============================] - 12s 8ms/step - loss: 2.3012 - accuracy: 0.1126\n",
      "Epoch 11/25\n",
      "1500/1500 [==============================] - 10s 7ms/step - loss: 2.3013 - accuracy: 0.1108\n",
      "Epoch 12/25\n",
      "1500/1500 [==============================] - 11s 8ms/step - loss: 2.3013 - accuracy: 0.1128\n",
      "Epoch 13/25\n",
      "1500/1500 [==============================] - 12s 8ms/step - loss: 2.3010 - accuracy: 0.1137\n",
      "Epoch 14/25\n",
      "1500/1500 [==============================] - 11s 7ms/step - loss: 2.3018 - accuracy: 0.1109\n",
      "Epoch 15/25\n",
      "1500/1500 [==============================] - 12s 8ms/step - loss: 2.3011 - accuracy: 0.1130\n",
      "Epoch 16/25\n",
      "1500/1500 [==============================] - 11s 8ms/step - loss: 2.3017 - accuracy: 0.1111\n",
      "Epoch 17/25\n",
      "1500/1500 [==============================] - 11s 7ms/step - loss: 2.3014 - accuracy: 0.1112\n",
      "Epoch 18/25\n",
      "1500/1500 [==============================] - 11s 8ms/step - loss: 2.3015 - accuracy: 0.1113\n",
      "Epoch 19/25\n",
      "1500/1500 [==============================] - 10s 7ms/step - loss: 2.3018 - accuracy: 0.1097\n",
      "Epoch 20/25\n",
      "1500/1500 [==============================] - 12s 8ms/step - loss: 2.3014 - accuracy: 0.1119\n",
      "Epoch 21/25\n",
      "1500/1500 [==============================] - 12s 8ms/step - loss: 2.3013 - accuracy: 0.1126\n",
      "Epoch 22/25\n",
      "1500/1500 [==============================] - 11s 7ms/step - loss: 2.3013 - accuracy: 0.1115\n",
      "Epoch 23/25\n",
      "1500/1500 [==============================] - 11s 7ms/step - loss: 2.3011 - accuracy: 0.1129\n",
      "Epoch 24/25\n",
      "1500/1500 [==============================] - 10s 7ms/step - loss: 2.3011 - accuracy: 0.1135\n",
      "Epoch 25/25\n",
      "1500/1500 [==============================] - 10s 7ms/step - loss: 2.3013 - accuracy: 0.1129\n"
     ]
    },
    {
     "data": {
      "text/plain": [
       "<tensorflow.python.keras.callbacks.History at 0x7fabb4d11a90>"
      ]
     },
     "execution_count": 102,
     "metadata": {},
     "output_type": "execute_result"
    }
   ],
   "source": [
    "# Testing Ott's Cats and dog model\n",
    "model = Sequential()\n",
    "\n",
    "# should feed in input shape [28,28]\n",
    "# only looking at image height and width\n",
    "model.add(Flatten(input_shape=[28,28]))\n",
    "model.add(Dense(512, activation='relu'))\n",
    "model.add(Dense(256, activation='relu'))\n",
    "model.add(Dense(128, activation='relu'))\n",
    "model.add(Dense(50, activation='relu'))\n",
    "model.add(Dense(10, activation='softmax'))\n",
    "\n",
    "model.summary()\n",
    "model.compile(loss=\"sparse_categorical_crossentropy\",\n",
    "             optimizer=\"sgd\",\n",
    "             metrics=['accuracy'])\n",
    "model.fit(X_train, y_train, epochs=25) # 50 epochs"
   ]
  },
  {
   "cell_type": "markdown",
   "metadata": {},
   "source": [
    "## Model Predict"
   ]
  },
  {
   "cell_type": "code",
   "execution_count": 104,
   "metadata": {},
   "outputs": [
    {
     "name": "stderr",
     "output_type": "stream",
     "text": [
      "/opt/anaconda3/lib/python3.8/site-packages/tensorflow/python/keras/engine/sequential.py:450: UserWarning: `model.predict_classes()` is deprecated and will be removed after 2021-01-01. Please use instead:* `np.argmax(model.predict(x), axis=-1)`,   if your model does multi-class classification   (e.g. if it uses a `softmax` last-layer activation).* `(model.predict(x) > 0.5).astype(\"int32\")`,   if your model does binary classification   (e.g. if it uses a `sigmoid` last-layer activation).\n",
      "  warnings.warn('`model.predict_classes()` is deprecated and '\n"
     ]
    },
    {
     "data": {
      "image/png": "[encoded data removed]",
      "text/plain": [
       "<Figure size 864x432 with 50 Axes>"
      ]
     },
     "metadata": {
      "needs_background": "light"
     },
     "output_type": "display_data"
    }
   ],
   "source": [
    "n_rows = 5\n",
    "n_cols = 10\n",
    "plt.figure(figsize=(n_cols * 1.2, n_rows * 1.2))\n",
    "predicted_val = []\n",
    "\n",
    "for row in range(n_rows):\n",
    "    for col in range(n_cols):\n",
    "        index = n_cols * row + col\n",
    "        plt.subplot(n_rows, n_cols, index + 1)\n",
    "        plt.imshow(X_test[index], cmap=\"binary\", interpolation=\"nearest\")\n",
    "        pred = model.predict_classes(X_test[index:index+1])[0]\n",
    "        value = y_test[index][0]\n",
    "        #print(value)\n",
    "        predicted_val.append(pred)\n",
    "        plt.title(\"p: {} a: {}\".format(pred, value))\n",
    "        plt.axis('off')\n",
    "        \n",
    "plt.subplots_adjust(wspace=0.2, hspace=0.5)\n",
    "plt.show()"
   ]
  },
  {
   "cell_type": "markdown",
   "metadata": {},
   "source": [
    "## Model Accuracy"
   ]
  },
  {
   "cell_type": "code",
   "execution_count": 105,
   "metadata": {},
   "outputs": [
    {
     "data": {
      "text/plain": [
       "0.11441666666666667"
      ]
     },
     "execution_count": 105,
     "metadata": {},
     "output_type": "execute_result"
    }
   ],
   "source": [
    "#  predicting the number and selecting the digit that is most probable \n",
    "prediction = model.predict(X_test)\n",
    "predictedValue = prediction.argmax(axis=1)\n",
    "\n",
    "# Comparing predicted digit to the actual digit value to determine the accuracy of the model\n",
    "accuracy = np.mean(y_test.ravel() == predictedValue.ravel())\n",
    "accuracy"
   ]
  },
  {
   "cell_type": "markdown",
   "metadata": {},
   "source": [
    "# Convolutional Model"
   ]
  },
  {
   "cell_type": "code",
   "execution_count": 204,
   "metadata": {},
   "outputs": [],
   "source": [
    "K.clear_session()\n",
    "\n",
    "from tensorflow.keras.utils import to_categorical\n",
    "\n",
    "# print('Before preprocessing:')\n",
    "# print(' - X_train.shape = {}, y_train.shape = {}'.format(X_train.shape, y_train.shape))\n",
    "# print(' - X_test.shape = {}'.format(X_test.shape))\n",
    "\n",
    "# # one-hot encode labels to 10 output classes corresponding to digits 0-9\n",
    "# y_train = to_categorical(y_train, 10)\n",
    "\n",
    "# # reshape the image arrays (make 2D arrays instead of 3D arrays)\n",
    "# X_train = np.reshape(X_train, (X_train.shape[0], X_train.shape[1], X_train.shape[2], 1))\n",
    "# X_test = np.reshape(X_test, (X_test.shape[0], X_test.shape[1], X_test.shape[2], 1))\n",
    "\n",
    "# print('After preprocessing: ')\n",
    "# print(' - X_train.shape = {}, y_train.shape = {}'.format(X_train.shape, y_train.shape))\n",
    "# print(' - X_test.shape = {}'.format(X_test.shape))"
   ]
  },
  {
   "cell_type": "code",
   "execution_count": 213,
   "metadata": {},
   "outputs": [
    {
     "name": "stdout",
     "output_type": "stream",
     "text": [
      "Model: \"sequential\"\n",
      "_________________________________________________________________\n",
      "Layer (type)                 Output Shape              Param #   \n",
      "=================================================================\n",
      "conv2d (Conv2D)              (None, 28, 28, 12)        120       \n",
      "_________________________________________________________________\n",
      "max_pooling2d (MaxPooling2D) (None, 14, 14, 12)        0         \n",
      "_________________________________________________________________\n",
      "conv2d_1 (Conv2D)            (None, 14, 14, 24)        2616      \n",
      "_________________________________________________________________\n",
      "max_pooling2d_1 (MaxPooling2 (None, 7, 7, 24)          0         \n",
      "_________________________________________________________________\n",
      "flatten (Flatten)            (None, 1176)              0         \n",
      "_________________________________________________________________\n",
      "dense (Dense)                (None, 32)                37664     \n",
      "_________________________________________________________________\n",
      "dropout (Dropout)            (None, 32)                0         \n",
      "_________________________________________________________________\n",
      "dense_1 (Dense)              (None, 10)                330       \n",
      "=================================================================\n",
      "Total params: 40,730\n",
      "Trainable params: 40,730\n",
      "Non-trainable params: 0\n",
      "_________________________________________________________________\n"
     ]
    }
   ],
   "source": [
    "# IMAGE_SHAPE = (48000, 28, 28) # put , 1 at end (color channel) if needed\n",
    "IMAGE_SHAPE = (28, 28, 1)\n",
    "def build_model():\n",
    "    K.clear_session()\n",
    "    \n",
    "    model = Sequential()\n",
    "    model.add(Conv2D(12, kernel_size=(3), padding='same', activation='relu',\n",
    "                    input_shape=IMAGE_SHAPE)) # **** KEEP THIS TOO \n",
    "    model.add(MaxPooling2D(pool_size=(2,2)))\n",
    "    \n",
    "    model.add(Conv2D(24, kernel_size=(3), padding='same', activation='relu'))\n",
    "    model.add(MaxPooling2D(pool_size=(2,2)))\n",
    "    \n",
    "#     model.add(Conv2D(16, kernel_size=(2), padding='same', activation='relu',\n",
    "#                 input_shape=IMAGE_SHAPE))\n",
    "#     model.add(MaxPooling2D(pool_size=(2,2)))\n",
    "    \n",
    "    model.add(Flatten())\n",
    "    \n",
    "    ## Add dense layers \n",
    "    model.add(Dense(32, activation = 'relu'))\n",
    "    model.add(Dropout(0.45))\n",
    "    \n",
    "    # output is softmax for 10 classes\n",
    "    model.add(Dense(10,activation = 'softmax')) # ****** NEED THIs STRIP TO THIS AND A INPUT LAYER \n",
    "    adam = optimizers.Adam(lr = 0.001)\n",
    "    \n",
    "    model.compile(optimizer = adam, loss='categorical_crossentropy', metrics=['acc'])\n",
    "    return model\n",
    "\n",
    "model = build_model()\n",
    "model.summary()"
   ]
  },
  {
   "cell_type": "code",
   "execution_count": 218,
   "metadata": {},
   "outputs": [
    {
     "data": {
      "text/plain": [
       "array([[0, 1, 0, 0, 0, 0, 0, 0, 0, 0]], dtype=uint8)"
      ]
     },
     "execution_count": 218,
     "metadata": {},
     "output_type": "execute_result"
    }
   ],
   "source": [
    "y_train[:1]"
   ]
  },
  {
   "cell_type": "code",
   "execution_count": 239,
   "metadata": {},
   "outputs": [
    {
     "data": {
      "text/plain": [
       "array([0, 0, 0, 1, 0, 0, 0, 0, 0, 0], dtype=uint8)"
      ]
     },
     "execution_count": 239,
     "metadata": {},
     "output_type": "execute_result"
    },
    {
     "data": {
      "image/png": "[encoded data removed]",
      "text/plain": [
       "<Figure size 432x288 with 1 Axes>"
      ]
     },
     "metadata": {
      "needs_background": "light"
     },
     "output_type": "display_data"
    }
   ],
   "source": [
    "# check the shit before we do the model\n",
    "i = 35000\n",
    "\n",
    "X_train[i, :, :, 0]\n",
    "plt.imshow(X_train[i,:,:,0])\n",
    "y_train[i:]\n",
    "y_train[i]"
   ]
  },
  {
   "cell_type": "code",
   "execution_count": null,
   "metadata": {},
   "outputs": [
    {
     "name": "stdout",
     "output_type": "stream",
     "text": [
      "(48000, 28, 28, 1)\n",
      "Epoch 1/20\n",
      "1500/1500 [==============================] - 56s 36ms/step - loss: 2.3014 - accuracy: 0.1114\n",
      "Epoch 2/20\n",
      "1500/1500 [==============================] - 58s 39ms/step - loss: 2.3015 - accuracy: 0.1112\n",
      "Epoch 3/20\n",
      "1500/1500 [==============================] - 46s 31ms/step - loss: 2.3014 - accuracy: 0.1103\n",
      "Epoch 4/20\n",
      " 520/1500 [=========>....................] - ETA: 32s - loss: 2.3010 - accuracy: 0.1151"
     ]
    }
   ],
   "source": [
    "model.compile(loss=\"categorical_crossentropy\", # categorical_crossentropy if hot encoded\n",
    "             optimizer=\"adam\", # sgd ?\n",
    "             metrics=['accuracy'])\n",
    "\n",
    "# need to reshape otherwise it throws some error about dimensions\n",
    "# https://stackoverflow.com/questions/63279168/valueerror-input-0-of-layer-sequential-is-incompatible-with-the-layer-expect\n",
    "X_train = X_train.reshape(-1, 28, 28, 1) \n",
    "print(X_train.shape) # shape looks good\n",
    "model.fit(X_train, y_train, epochs=20)"
   ]
  },
  {
   "cell_type": "code",
   "execution_count": 196,
   "metadata": {},
   "outputs": [
    {
     "name": "stdout",
     "output_type": "stream",
     "text": [
      "Model: \"sequential\"\n",
      "_________________________________________________________________\n",
      "Layer (type)                 Output Shape              Param #   \n",
      "=================================================================\n",
      "flatten (Flatten)            (None, 784)               0         \n",
      "_________________________________________________________________\n",
      "dense (Dense)                (None, 10)                7850      \n",
      "=================================================================\n",
      "Total params: 7,850\n",
      "Trainable params: 7,850\n",
      "Non-trainable params: 0\n",
      "_________________________________________________________________\n"
     ]
    }
   ],
   "source": [
    "# the shitty model\n",
    "# IMAGE_SHAPE = (48000, 28, 28) # put , 1 at end (color channel) if needed\n",
    "IMAGE_SHAPE = (28, 28, 1)\n",
    "def build_model():\n",
    "    K.clear_session()\n",
    "    \n",
    "    model = Sequential()\n",
    "    \n",
    "    model.add(Flatten(input_shape = IMAGE_SHAPE))\n",
    "    # output is softmax for 10 classes\n",
    "    model.add(Dense(10,activation = 'softmax')) # ****** NEED THIs STRIP TO THIS AND A INPUT LAYER \n",
    "    adam = optimizers.Adam(lr = 0.001)\n",
    "    \n",
    "    model.compile(optimizer = adam, loss='categorical_crossentropy', metrics=['acc'])\n",
    "    return model\n",
    "\n",
    "model = build_model()\n",
    "model.summary()"
   ]
  },
  {
   "cell_type": "markdown",
   "metadata": {},
   "source": [
    "## Mess data up"
   ]
  },
  {
   "cell_type": "code",
   "execution_count": null,
   "metadata": {},
   "outputs": [],
   "source": [
    "# we only need this for the image rotation part\n",
    "# sort the images by smallest to largest\n",
    "# without this you will get 0, 1, 10 etc; bc we don't have 000s (shitty file naming system oops)\n",
    "image_names = os.listdir(\"./../data/train_img\")[:FUNKY_SIZE]\n",
    "image_names.sort(key=lambda f: int(re.sub('\\D', '', f)))\n",
    "image_names[0:30000]"
   ]
  },
  {
   "cell_type": "markdown",
   "metadata": {},
   "source": [
    "### Rotate each image by a random degree (-20, 20)"
   ]
  },
  {
   "cell_type": "code",
   "execution_count": 17,
   "metadata": {},
   "outputs": [
    {
     "data": {
      "text/plain": [
       "(30000, 28, 28)"
      ]
     },
     "execution_count": 17,
     "metadata": {},
     "output_type": "execute_result"
    }
   ],
   "source": [
    "X_train_big = []\n",
    "for img in image_names:  \n",
    "    # convert image to 1 color channel \n",
    "    colorImage = Image.open(\"./../data/train_img/\" + img).convert('1')\n",
    "    \n",
    "    # rotating the thing\n",
    "    degrees = random.randint(-20,20)\n",
    "    rptated = colorImage.rotate(degrees)\n",
    "    \n",
    "    # getting the data\n",
    "    image_sequence = rptated.getdata()\n",
    "    image_array = np.array(image_sequence).reshape(28,28)\n",
    "    \n",
    "    # switching to float \n",
    "    float_array = image_array.astype(float)\n",
    "    X_train_big.append(float_array)\n",
    "\n",
    "# changing to numpy array\n",
    "funky_x = np.array(X_train_big)\n",
    "funky_x.shape"
   ]
  },
  {
   "cell_type": "code",
   "execution_count": 18,
   "metadata": {},
   "outputs": [
    {
     "data": {
      "text/plain": [
       "array([[5],\n",
       "       [0],\n",
       "       [4],\n",
       "       ...,\n",
       "       [6],\n",
       "       [7],\n",
       "       [1]])"
      ]
     },
     "execution_count": 18,
     "metadata": {},
     "output_type": "execute_result"
    }
   ],
   "source": [
    "# check type of funky_y to make sure it aligns\n",
    "np.array(funky_y)"
   ]
  },
  {
   "cell_type": "code",
   "execution_count": 20,
   "metadata": {},
   "outputs": [
    {
     "name": "stdout",
     "output_type": "stream",
     "text": [
      "[4]\n"
     ]
    },
    {
     "data": {
      "image/png": "[encoded data removed]",
      "text/plain": [
       "<Figure size 432x288 with 1 Axes>"
      ]
     },
     "metadata": {
      "needs_background": "light"
     },
     "output_type": "display_data"
    }
   ],
   "source": [
    "# check if labels/images are read properly\n",
    "# F\n",
    "i = 23999\n",
    "plt.imshow(funky_x[i])\n",
    "print(funky_y[i])"
   ]
  },
  {
   "cell_type": "code",
   "execution_count": 21,
   "metadata": {},
   "outputs": [
    {
     "name": "stdout",
     "output_type": "stream",
     "text": [
      "[7]\n"
     ]
    },
    {
     "data": {
      "image/png": "[encoded data removed]",
      "text/plain": [
       "<Figure size 432x288 with 1 Axes>"
      ]
     },
     "metadata": {
      "needs_background": "light"
     },
     "output_type": "display_data"
    }
   ],
   "source": [
    "# check if labels/images are read properly\n",
    "i = 23000\n",
    "plt.imshow(funky_x[i])\n",
    "print(funky_y[i])"
   ]
  },
  {
   "cell_type": "code",
   "execution_count": 22,
   "metadata": {},
   "outputs": [
    {
     "name": "stdout",
     "output_type": "stream",
     "text": [
      "[5]\n"
     ]
    },
    {
     "data": {
      "image/png": "[encoded data removed]",
      "text/plain": [
       "<Figure size 432x288 with 1 Axes>"
      ]
     },
     "metadata": {
      "needs_background": "light"
     },
     "output_type": "display_data"
    }
   ],
   "source": [
    "# check if labels/images are read properly\n",
    "i = 20000\n",
    "plt.imshow(funky_x[i])\n",
    "print(funky_y[i])"
   ]
  },
  {
   "cell_type": "code",
   "execution_count": 27,
   "metadata": {
    "scrolled": true
   },
   "outputs": [
    {
     "name": "stdout",
     "output_type": "stream",
     "text": [
      "[4]\n"
     ]
    },
    {
     "data": {
      "image/png": "[encoded data removed]",
      "text/plain": [
       "<Figure size 432x288 with 1 Axes>"
      ]
     },
     "metadata": {
      "needs_background": "light"
     },
     "output_type": "display_data"
    }
   ],
   "source": [
    "# check if labels/images are read properly\n",
    "i = 19998\n",
    "plt.imshow(funky_x[i])\n",
    "print(funky_y[i])"
   ]
  },
  {
   "cell_type": "code",
   "execution_count": 28,
   "metadata": {},
   "outputs": [
    {
     "name": "stdout",
     "output_type": "stream",
     "text": [
      "[3]\n"
     ]
    },
    {
     "data": {
      "image/png": "[encoded data removed]",
      "text/plain": [
       "<Figure size 432x288 with 1 Axes>"
      ]
     },
     "metadata": {
      "needs_background": "light"
     },
     "output_type": "display_data"
    }
   ],
   "source": [
    "# check if labels/images are read properly\n",
    "i = 10000\n",
    "plt.imshow(funky_x[i])\n",
    "print(funky_y[i])"
   ]
  },
  {
   "cell_type": "code",
   "execution_count": 26,
   "metadata": {},
   "outputs": [
    {
     "name": "stdout",
     "output_type": "stream",
     "text": [
      "[0]\n"
     ]
    },
    {
     "data": {
      "image/png": "[encoded data removed]",
      "text/plain": [
       "<Figure size 432x288 with 1 Axes>"
      ]
     },
     "metadata": {
      "needs_background": "light"
     },
     "output_type": "display_data"
    }
   ],
   "source": [
    "# check if labels/images are read properly\n",
    "i = 1000\n",
    "plt.imshow(funky_x[i])\n",
    "print(funky_y[i])"
   ]
  },
  {
   "cell_type": "markdown",
   "metadata": {},
   "source": [
    "# Troubleshooting notes:\n",
    "- We originally had 30k< images and it stopped working after like 19,999 images (prediction/image were off). We rescaled it to 20k and now 20k doesn't workkkkkk. IT GOT LOWER?"
   ]
  },
  {
   "cell_type": "code",
   "execution_count": null,
   "metadata": {},
   "outputs": [],
   "source": [
    "# since the images/labels are weird at 20,000/after 20,000\n",
    "# let's only use the first 20k images\n",
    "x_data = funky_x[0:19999]\n",
    "y_data = funky_y[0:19999]"
   ]
  },
  {
   "cell_type": "code",
   "execution_count": null,
   "metadata": {},
   "outputs": [],
   "source": [
    "# splits the data\n",
    "X_train_funky, X_test_funky, y_train_funky, y_test_funky = train_test_split(x_data, y_data, test_size = 0.2, random_state=1)\n",
    "\n",
    "# split looks right\n",
    "print(X_train_funky.shape)\n",
    "print(X_test_funky.shape)\n",
    "print(y_train_funky.shape)\n",
    "print(y_test_funky.shape)"
   ]
  },
  {
   "cell_type": "markdown",
   "metadata": {},
   "source": [
    "# Model"
   ]
  },
  {
   "cell_type": "code",
   "execution_count": null,
   "metadata": {},
   "outputs": [],
   "source": [
    "# set some globals, which are used across the remaining functions\n",
    "Image_width = 28\n",
    "Image_height = 28\n",
    "Image_Channels = 1\n",
    "IMAGE_SHAPE = (Image_width, Image_height, Image_Channels)\n",
    "NUM_CLASSES = 10\n",
    "\n",
    "# training parameters\n",
    "NUM_EPOCHS = 30\n",
    "BATCH_SIZE = 128"
   ]
  },
  {
   "cell_type": "code",
   "execution_count": null,
   "metadata": {},
   "outputs": [],
   "source": [
    "# Testing Ott's Cats and dog model\n",
    "model = Sequential()\n",
    "\n",
    "# should feed in input shape [28,28]\n",
    "# only looking at image height and width\n",
    "\n",
    "model.add(Flatten(input_shape=[28,28]))\n",
    "\n",
    "model.add(Dense(512, activation='relu'))\n",
    "\n",
    "model.add(Dense(256, activation='relu'))\n",
    "\n",
    "model.add(Dense(128, activation='relu'))\n",
    "\n",
    "model.add(Dense(50, activation='relu'))\n",
    "\n",
    "model.add(Dense(10, activation='softmax'))"
   ]
  },
  {
   "cell_type": "code",
   "execution_count": null,
   "metadata": {},
   "outputs": [],
   "source": [
    "model.summary()"
   ]
  },
  {
   "cell_type": "code",
   "execution_count": null,
   "metadata": {},
   "outputs": [],
   "source": [
    "# convert to 0 and 1's \n",
    "X_train_funky = (X_train_funky.astype('float32') / 255.0)\n",
    "X_test_funky = (X_test_funky.astype('float32') / 255.0)\n",
    "\n",
    "# reshape it\n",
    "# make sure to reshape to right data values!\n",
    "X_train_funky = X_train_funky.reshape(15999, 28, 28)\n",
    "X_test_funky = X_test_funky.reshape(4000, 28, 28)\n",
    "\n",
    "# y train\n",
    "y_train_funky = y_train_funky.astype('float32')\n",
    "y_train_funky.dtype"
   ]
  },
  {
   "cell_type": "code",
   "execution_count": null,
   "metadata": {},
   "outputs": [],
   "source": [
    "# check if we ran into any NaNs\n",
    "np.any(np.isnan(X_train_funky))"
   ]
  },
  {
   "cell_type": "code",
   "execution_count": null,
   "metadata": {
    "scrolled": true
   },
   "outputs": [],
   "source": [
    "model.compile(loss=\"sparse_categorical_crossentropy\",\n",
    "             optimizer=\"sgd\",\n",
    "             metrics=['accuracy'])\n",
    "\n",
    "model.fit(X_train_funky, y_train_funky, epochs=50)"
   ]
  },
  {
   "cell_type": "markdown",
   "metadata": {},
   "source": [
    "## Model Prediction"
   ]
  },
  {
   "cell_type": "code",
   "execution_count": null,
   "metadata": {
    "scrolled": true
   },
   "outputs": [],
   "source": [
    "n_rows = 5\n",
    "n_cols = 10\n",
    "plt.figure(figsize=(n_cols * 1.2, n_rows * 1.2))\n",
    "predicted_val = []\n",
    "\n",
    "for row in range(n_rows):\n",
    "    for col in range(n_cols):\n",
    "        index = n_cols * row + col\n",
    "        plt.subplot(n_rows, n_cols, index + 1)\n",
    "        plt.imshow(X_test_funky[index], cmap=\"binary\", interpolation=\"nearest\")\n",
    "        pred = model.predict_classes(X_test_funky[index:index+1])[0]\n",
    "        value = y_test_funky[index][0]\n",
    "        #print(value)\n",
    "        predicted_val.append(pred)\n",
    "        plt.title(\"p: {} a: {}\".format(pred, value))\n",
    "        plt.axis('off')\n",
    "        \n",
    "plt.subplots_adjust(wspace=0.2, hspace=0.5)\n",
    "plt.show()"
   ]
  },
  {
   "cell_type": "markdown",
   "metadata": {},
   "source": [
    "## Model Accuracy"
   ]
  },
  {
   "cell_type": "code",
   "execution_count": null,
   "metadata": {},
   "outputs": [],
   "source": [
    "#  predicting the number and selecting the digit that is most probable \n",
    "prediction = model.predict(X_test_funky)\n",
    "predictedValue = prediction.argmax(axis=1)\n",
    "\n",
    "# Comparing predicted digit to the actual digit value to determine the accuracy of the model\n",
    "accuracy = np.mean(y_test_funky.ravel() == predictedValue.ravel())\n",
    "accuracy"
   ]
  },
  {
   "cell_type": "markdown",
   "metadata": {},
   "source": [
    "# Convolution Model"
   ]
  },
  {
   "cell_type": "code",
   "execution_count": null,
   "metadata": {},
   "outputs": [],
   "source": [
    "X_train = X_train_funky.copy()\n",
    "y_train = y_train_funky.copy()\n",
    "X_test = X_test_funky.copy()\n",
    "y_test = y_test_funky.copy()\n",
    "\n",
    "K.clear_session()\n",
    "\n",
    "from tensorflow.keras.utils import to_categorical\n",
    "\n",
    "print('Before preprocessing:')\n",
    "print(' - X_train.shape = {}, y_train.shape = {}'.format(X_train.shape, y_train.shape))\n",
    "print(' - X_test.shape = {}'.format(X_test.shape))\n",
    "\n",
    "# one-hot encode labels to 10 output classes corresponding to digits 0-9\n",
    "y_train = to_categorical(y_train, 10)\n",
    "\n",
    "# reshape the image arrays (make 2D arrays instead of 3D arrays)\n",
    "X_train = np.reshape(X_train, (X_train.shape[0], X_train.shape[1], X_train.shape[2], 1))\n",
    "X_test = np.reshape(X_test, (X_test.shape[0], X_test.shape[1], X_test.shape[2], 1))\n",
    "\n",
    "print('After preprocessing: ')\n",
    "print(' - X_train.shape = {}, y_train.shape = {}'.format(X_train.shape, y_train.shape))\n",
    "print(' - X_test.shape = {}'.format(X_test.shape))"
   ]
  },
  {
   "cell_type": "code",
   "execution_count": null,
   "metadata": {
    "scrolled": true
   },
   "outputs": [],
   "source": [
    "# IMAGE_SHAPE = (15999, 28, 28, 1)\n",
    "def build_model():\n",
    "    K.clear_session()\n",
    "    \n",
    "    model = Sequential()\n",
    "    model.add(Conv2D(32, kernel_size=(6), padding='same', activation='relu',\n",
    "                    input_shape=IMAGE_SHAPE)) # **** KEEP THIS TOO \n",
    "    model.add(MaxPooling2D(pool_size=(2,2)))\n",
    "    \n",
    "    model.add(Conv2D(64, kernel_size=(3), padding='same', activation='relu'))\n",
    "    model.add(MaxPooling2D(pool_size=(2,2)))\n",
    "    \n",
    "    model.add(Conv2D(128, kernel_size=(2), padding='same', activation='relu',\n",
    "                input_shape=IMAGE_SHAPE))\n",
    "    model.add(MaxPooling2D(pool_size=(2,2)))\n",
    "    \n",
    "    model.add(Flatten())\n",
    "    ## Add desnse layers \n",
    "    model.add(Dense(32, activation = \n",
    "                    'relu'))\n",
    "    model.add(Dropout(0.45))\n",
    "    # output is softmax for 10 classes\n",
    "    model.add(Dense(10,activation = 'softmax')) # ****** NEED THIs STRIP TO THIS AND A INPUT LAYER \n",
    "    adam = optimizers.Adam(lr = 0.001)\n",
    "    \n",
    "    model.compile(optimizer = adam, loss='categorical_crossentropy', metrics=['acc'])\n",
    "    return model\n",
    "\n",
    "model = build_model()\n",
    "model.summary()"
   ]
  },
  {
   "cell_type": "code",
   "execution_count": null,
   "metadata": {},
   "outputs": [],
   "source": [
    "NUM_EPOCHS = 2"
   ]
  },
  {
   "cell_type": "code",
   "execution_count": null,
   "metadata": {},
   "outputs": [],
   "source": [
    "model.compile(loss=\"sparse_categorical_crossentropy\",\n",
    "             optimizer=\"sgd\",\n",
    "             metrics=['accuracy'])\n",
    "\n",
    "\n",
    "# need to reshape otherwise it throws some error about dimensions\n",
    "# https://stackoverflow.com/questions/63279168/valueerror-input-0-of-layer-sequential-is-incompatible-with-the-layer-expect\n",
    "X_train_funky = X_train_funky.reshape(-1, 28, 28, 1) \n",
    "\n",
    "model.fit(X_train_funky, y_train_funky, epochs=50)"
   ]
  },
  {
   "cell_type": "markdown",
   "metadata": {},
   "source": [
    "# Miscellaneous"
   ]
  },
  {
   "cell_type": "code",
   "execution_count": null,
   "metadata": {},
   "outputs": [],
   "source": [
    "# convert image to black/white\n",
    "colorImage = Image.open(\"./../data/train_img/train_1.png\").convert('1')\n",
    "image_sequence = colorImage.getdata()\n",
    "image_array = np.array(image_sequence).reshape(28,28)\n",
    "image_array.shape\n",
    "\n",
    "# check if rotating works\n",
    "rotated = colorImage.rotate(22)\n",
    "rotated.show()"
   ]
  },
  {
   "cell_type": "code",
   "execution_count": null,
   "metadata": {},
   "outputs": [],
   "source": []
  },
  {
   "cell_type": "code",
   "execution_count": null,
   "metadata": {},
   "outputs": [],
   "source": []
  },
  {
   "cell_type": "code",
   "execution_count": null,
   "metadata": {},
   "outputs": [],
   "source": []
  },
  {
   "cell_type": "code",
   "execution_count": null,
   "metadata": {},
   "outputs": [],
   "source": []
  },
  {
   "cell_type": "code",
   "execution_count": null,
   "metadata": {},
   "outputs": [],
   "source": []
  },
  {
   "cell_type": "code",
   "execution_count": null,
   "metadata": {},
   "outputs": [],
   "source": []
  },
  {
   "cell_type": "code",
   "execution_count": null,
   "metadata": {},
   "outputs": [],
   "source": []
  },
  {
   "cell_type": "code",
   "execution_count": null,
   "metadata": {},
   "outputs": [],
   "source": []
  },
  {
   "cell_type": "code",
   "execution_count": null,
   "metadata": {},
   "outputs": [],
   "source": []
  },
  {
   "cell_type": "code",
   "execution_count": null,
   "metadata": {},
   "outputs": [],
   "source": []
  },
  {
   "cell_type": "code",
   "execution_count": null,
   "metadata": {},
   "outputs": [],
   "source": []
  }
 ],
 "metadata": {
  "kernelspec": {
   "display_name": "Python 3",
   "language": "python",
   "name": "python3"
  },
  "language_info": {
   "codemirror_mode": {
    "name": "ipython",
    "version": 3
   },
   "file_extension": ".py",
   "mimetype": "text/x-python",
   "name": "python",
   "nbconvert_exporter": "python",
   "pygments_lexer": "ipython3",
   "version": "3.8.3"
  }
 },
 "nbformat": 4,
 "nbformat_minor": 4
}
