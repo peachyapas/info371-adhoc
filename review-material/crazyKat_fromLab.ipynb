{
 "cells": [
  {
   "cell_type": "markdown",
   "id": "01de2199",
   "metadata": {},
   "source": [
    "# Problem Set 3: Image rotation\n",
    "Peachyapa Saengcharoentrakul, April 27, INFO 371 | Ott Toomet/Zening Qiu"
   ]
  },
  {
   "cell_type": "code",
   "execution_count": null,
   "id": "6fa2781c",
   "metadata": {},
   "outputs": [],
   "source": [
    "import numpy as np\n",
    "import pandas as pd\n",
    "import matplotlib.pyplot as plt\n",
    "from matplotlib.image import imread\n",
    "import matplotlib.image as mpimg\n",
    "import cv2"
   ]
  },
  {
   "cell_type": "code",
   "execution_count": null,
   "id": "bad9e84b",
   "metadata": {},
   "outputs": [],
   "source": [
    "num3 = imread('./number3.png')"
   ]
  },
  {
   "cell_type": "code",
   "execution_count": null,
   "id": "f1b4fb0f",
   "metadata": {},
   "outputs": [],
   "source": [
    "cz = pd.read_csv(\"../data/crazy-hat.tsv\", sep=\"\\t\")\n",
    "img = imread('../data/krazy-kat.png')\n",
    "q1answerps03 = imread('../problem set/ps03_q1.1_peachs.png')"
   ]
  },
  {
   "cell_type": "code",
   "execution_count": null,
   "id": "aa3b7a74",
   "metadata": {},
   "outputs": [],
   "source": [
    "X = cz[[\"x\", \"y\"]].values\n",
    "X[:5]"
   ]
  },
  {
   "cell_type": "code",
   "execution_count": null,
   "id": "b25e40ef",
   "metadata": {},
   "outputs": [],
   "source": [
    "groups = cz[\"group\"].values\n",
    "groups"
   ]
  },
  {
   "cell_type": "code",
   "execution_count": 8,
   "id": "6f3b8326",
   "metadata": {},
   "outputs": [
    {
     "ename": "NameError",
     "evalue": "name 'cz' is not defined",
     "output_type": "error",
     "traceback": [
      "\u001b[1;31m---------------------------------------------------------------------------\u001b[0m",
      "\u001b[1;31mNameError\u001b[0m                                 Traceback (most recent call last)",
      "\u001b[1;32m<ipython-input-8-9d20bdeb6073>\u001b[0m in \u001b[0;36m<module>\u001b[1;34m\u001b[0m\n\u001b[1;32m----> 1\u001b[1;33m \u001b[0mM\u001b[0m \u001b[1;33m=\u001b[0m \u001b[0mcz\u001b[0m\u001b[1;33m[\u001b[0m\u001b[1;33m[\u001b[0m\u001b[1;34m\"x\"\u001b[0m\u001b[1;33m,\u001b[0m \u001b[1;34m\"y\"\u001b[0m\u001b[1;33m]\u001b[0m\u001b[1;33m]\u001b[0m\u001b[1;33m.\u001b[0m\u001b[0mvalues\u001b[0m\u001b[1;33m\u001b[0m\u001b[1;33m\u001b[0m\u001b[0m\n\u001b[0m\u001b[0;32m      2\u001b[0m \u001b[0mM\u001b[0m\u001b[1;33m[\u001b[0m\u001b[1;33m:\u001b[0m\u001b[1;36m5\u001b[0m\u001b[1;33m]\u001b[0m\u001b[1;33m\u001b[0m\u001b[1;33m\u001b[0m\u001b[0m\n",
      "\u001b[1;31mNameError\u001b[0m: name 'cz' is not defined"
     ]
    }
   ],
   "source": [
    "M = cz[[\"x\", \"y\"]].values\n",
    "M[:5]"
   ]
  },
  {
   "cell_type": "markdown",
   "id": "c9a79a7f",
   "metadata": {},
   "source": [
    "## 1. Matrix multiplication (10pt)"
   ]
  },
  {
   "cell_type": "markdown",
   "id": "31f2c757",
   "metadata": {},
   "source": [
    "### 1.1 (6pt) Multiply these matrices/vectors manually. Show the math you do while solving these. Note: you can do this on paper, just include a picture of your solution.\n"
   ]
  },
  {
   "cell_type": "markdown",
   "id": "8b88a5f1",
   "metadata": {},
   "source": [
    "See attached image"
   ]
  },
  {
   "cell_type": "code",
   "execution_count": 9,
   "id": "da8ed466",
   "metadata": {},
   "outputs": [
    {
     "ename": "FileNotFoundError",
     "evalue": "[Errno 2] No such file or directory: '../problem set/ps03_q1.1_peachs.png'",
     "output_type": "error",
     "traceback": [
      "\u001b[1;31m---------------------------------------------------------------------------\u001b[0m",
      "\u001b[1;31mFileNotFoundError\u001b[0m                         Traceback (most recent call last)",
      "\u001b[1;32m<ipython-input-9-bc6b1c065e29>\u001b[0m in \u001b[0;36m<module>\u001b[1;34m\u001b[0m\n\u001b[1;32m----> 1\u001b[1;33m \u001b[0manswersq11\u001b[0m \u001b[1;33m=\u001b[0m \u001b[0mmpimg\u001b[0m\u001b[1;33m.\u001b[0m\u001b[0mimread\u001b[0m\u001b[1;33m(\u001b[0m\u001b[1;34m\"../problem set/ps03_q1.1_peachs.png\"\u001b[0m\u001b[1;33m)\u001b[0m\u001b[1;33m\u001b[0m\u001b[1;33m\u001b[0m\u001b[0m\n\u001b[0m\u001b[0;32m      2\u001b[0m \u001b[0mimgplot\u001b[0m \u001b[1;33m=\u001b[0m \u001b[0mplt\u001b[0m\u001b[1;33m.\u001b[0m\u001b[0mimshow\u001b[0m\u001b[1;33m(\u001b[0m\u001b[0manswersq11\u001b[0m\u001b[1;33m)\u001b[0m\u001b[1;33m\u001b[0m\u001b[1;33m\u001b[0m\u001b[0m\n\u001b[0;32m      3\u001b[0m \u001b[0mplt\u001b[0m\u001b[1;33m.\u001b[0m\u001b[0maxis\u001b[0m\u001b[1;33m(\u001b[0m\u001b[1;34m'off'\u001b[0m\u001b[1;33m)\u001b[0m\u001b[1;33m\u001b[0m\u001b[1;33m\u001b[0m\u001b[0m\n\u001b[0;32m      4\u001b[0m \u001b[0mplt\u001b[0m\u001b[1;33m.\u001b[0m\u001b[0mshow\u001b[0m\u001b[1;33m(\u001b[0m\u001b[1;33m)\u001b[0m\u001b[1;33m\u001b[0m\u001b[1;33m\u001b[0m\u001b[0m\n",
      "\u001b[1;32m~\\anaconda3\\envs\\tf\\lib\\site-packages\\matplotlib\\image.py\u001b[0m in \u001b[0;36mimread\u001b[1;34m(fname, format)\u001b[0m\n\u001b[0;32m   1494\u001b[0m                     \u001b[0mresponse\u001b[0m \u001b[1;33m=\u001b[0m \u001b[0mio\u001b[0m\u001b[1;33m.\u001b[0m\u001b[0mBytesIO\u001b[0m\u001b[1;33m(\u001b[0m\u001b[0mresponse\u001b[0m\u001b[1;33m.\u001b[0m\u001b[0mread\u001b[0m\u001b[1;33m(\u001b[0m\u001b[1;33m)\u001b[0m\u001b[1;33m)\u001b[0m\u001b[1;33m\u001b[0m\u001b[1;33m\u001b[0m\u001b[0m\n\u001b[0;32m   1495\u001b[0m                 \u001b[1;32mreturn\u001b[0m \u001b[0mimread\u001b[0m\u001b[1;33m(\u001b[0m\u001b[0mresponse\u001b[0m\u001b[1;33m,\u001b[0m \u001b[0mformat\u001b[0m\u001b[1;33m=\u001b[0m\u001b[0mext\u001b[0m\u001b[1;33m)\u001b[0m\u001b[1;33m\u001b[0m\u001b[1;33m\u001b[0m\u001b[0m\n\u001b[1;32m-> 1496\u001b[1;33m     \u001b[1;32mwith\u001b[0m \u001b[0mimg_open\u001b[0m\u001b[1;33m(\u001b[0m\u001b[0mfname\u001b[0m\u001b[1;33m)\u001b[0m \u001b[1;32mas\u001b[0m \u001b[0mimage\u001b[0m\u001b[1;33m:\u001b[0m\u001b[1;33m\u001b[0m\u001b[1;33m\u001b[0m\u001b[0m\n\u001b[0m\u001b[0;32m   1497\u001b[0m         return (_pil_png_to_float_array(image)\n\u001b[0;32m   1498\u001b[0m                 \u001b[1;32mif\u001b[0m \u001b[0misinstance\u001b[0m\u001b[1;33m(\u001b[0m\u001b[0mimage\u001b[0m\u001b[1;33m,\u001b[0m \u001b[0mPIL\u001b[0m\u001b[1;33m.\u001b[0m\u001b[0mPngImagePlugin\u001b[0m\u001b[1;33m.\u001b[0m\u001b[0mPngImageFile\u001b[0m\u001b[1;33m)\u001b[0m \u001b[1;32melse\u001b[0m\u001b[1;33m\u001b[0m\u001b[1;33m\u001b[0m\u001b[0m\n",
      "\u001b[1;32m~\\anaconda3\\envs\\tf\\lib\\site-packages\\PIL\\ImageFile.py\u001b[0m in \u001b[0;36m__init__\u001b[1;34m(self, fp, filename)\u001b[0m\n\u001b[0;32m    107\u001b[0m         \u001b[1;32mif\u001b[0m \u001b[0misPath\u001b[0m\u001b[1;33m(\u001b[0m\u001b[0mfp\u001b[0m\u001b[1;33m)\u001b[0m\u001b[1;33m:\u001b[0m\u001b[1;33m\u001b[0m\u001b[1;33m\u001b[0m\u001b[0m\n\u001b[0;32m    108\u001b[0m             \u001b[1;31m# filename\u001b[0m\u001b[1;33m\u001b[0m\u001b[1;33m\u001b[0m\u001b[1;33m\u001b[0m\u001b[0m\n\u001b[1;32m--> 109\u001b[1;33m             \u001b[0mself\u001b[0m\u001b[1;33m.\u001b[0m\u001b[0mfp\u001b[0m \u001b[1;33m=\u001b[0m \u001b[0mopen\u001b[0m\u001b[1;33m(\u001b[0m\u001b[0mfp\u001b[0m\u001b[1;33m,\u001b[0m \u001b[1;34m\"rb\"\u001b[0m\u001b[1;33m)\u001b[0m\u001b[1;33m\u001b[0m\u001b[1;33m\u001b[0m\u001b[0m\n\u001b[0m\u001b[0;32m    110\u001b[0m             \u001b[0mself\u001b[0m\u001b[1;33m.\u001b[0m\u001b[0mfilename\u001b[0m \u001b[1;33m=\u001b[0m \u001b[0mfp\u001b[0m\u001b[1;33m\u001b[0m\u001b[1;33m\u001b[0m\u001b[0m\n\u001b[0;32m    111\u001b[0m             \u001b[0mself\u001b[0m\u001b[1;33m.\u001b[0m\u001b[0m_exclusive_fp\u001b[0m \u001b[1;33m=\u001b[0m \u001b[1;32mTrue\u001b[0m\u001b[1;33m\u001b[0m\u001b[1;33m\u001b[0m\u001b[0m\n",
      "\u001b[1;31mFileNotFoundError\u001b[0m: [Errno 2] No such file or directory: '../problem set/ps03_q1.1_peachs.png'"
     ]
    }
   ],
   "source": [
    "answersq11 = mpimg.imread(\"../problem set/ps03_q1.1_peachs.png\")\n",
    "imgplot = plt.imshow(answersq11)\n",
    "plt.axis('off')\n",
    "plt.show()"
   ]
  },
  {
   "cell_type": "markdown",
   "id": "f8e00116",
   "metadata": {},
   "source": [
    "### 1.2 (4pt) now check your results on computer"
   ]
  },
  {
   "cell_type": "code",
   "execution_count": 10,
   "id": "72a1a4f2",
   "metadata": {},
   "outputs": [
    {
     "data": {
      "text/plain": [
       "array([[ 0, -7],\n",
       "       [ 5, -3]])"
      ]
     },
     "execution_count": 10,
     "metadata": {},
     "output_type": "execute_result"
    }
   ],
   "source": [
    "q1_1_a1 = [[0, 7], \n",
    "           [5, 3]]\n",
    "q1_1_a2 = [[1, 0], \n",
    "           [0, -1]]\n",
    "q1_1_aPrd = np.matmul(q1_1_a1, q1_1_a2)\n",
    "q1_1_aPrd"
   ]
  },
  {
   "cell_type": "code",
   "execution_count": 11,
   "id": "3ad80e75",
   "metadata": {},
   "outputs": [
    {
     "ename": "ValueError",
     "evalue": "matmul: Input operand 1 has a mismatch in its core dimension 0, with gufunc signature (n?,k),(k,m?)->(n?,m?) (size 3 is different from 2)",
     "output_type": "error",
     "traceback": [
      "\u001b[1;31m---------------------------------------------------------------------------\u001b[0m",
      "\u001b[1;31mValueError\u001b[0m                                Traceback (most recent call last)",
      "\u001b[1;32m<ipython-input-11-739712f54091>\u001b[0m in \u001b[0;36m<module>\u001b[1;34m\u001b[0m\n\u001b[0;32m      4\u001b[0m            \u001b[1;33m[\u001b[0m\u001b[1;36m0\u001b[0m\u001b[1;33m,\u001b[0m \u001b[1;33m-\u001b[0m\u001b[1;36m1\u001b[0m\u001b[1;33m]\u001b[0m\u001b[1;33m,\u001b[0m\u001b[1;33m\u001b[0m\u001b[1;33m\u001b[0m\u001b[0m\n\u001b[0;32m      5\u001b[0m            [0, 1]]\n\u001b[1;32m----> 6\u001b[1;33m \u001b[0mq1_1_bPrd\u001b[0m \u001b[1;33m=\u001b[0m \u001b[0mnp\u001b[0m\u001b[1;33m.\u001b[0m\u001b[0mmatmul\u001b[0m\u001b[1;33m(\u001b[0m\u001b[0mq1_1_b1\u001b[0m\u001b[1;33m,\u001b[0m \u001b[0mq1_1_b2\u001b[0m\u001b[1;33m)\u001b[0m\u001b[1;33m\u001b[0m\u001b[1;33m\u001b[0m\u001b[0m\n\u001b[0m\u001b[0;32m      7\u001b[0m \u001b[0mq1_1_bPrd\u001b[0m\u001b[1;33m\u001b[0m\u001b[1;33m\u001b[0m\u001b[0m\n",
      "\u001b[1;31mValueError\u001b[0m: matmul: Input operand 1 has a mismatch in its core dimension 0, with gufunc signature (n?,k),(k,m?)->(n?,m?) (size 3 is different from 2)"
     ]
    }
   ],
   "source": [
    "q1_1_b1 = [[0, 7], \n",
    "           [5, 3]]\n",
    "q1_1_b2 = [[1, 0], \n",
    "           [0, -1],\n",
    "           [0, 1]]\n",
    "q1_1_bPrd = np.matmul(q1_1_b1, q1_1_b2)\n",
    "q1_1_bPrd"
   ]
  },
  {
   "cell_type": "code",
   "execution_count": 12,
   "id": "f25216fc",
   "metadata": {},
   "outputs": [
    {
     "data": {
      "text/plain": [
       "array([[ 0, -7,  7],\n",
       "       [ 5, -3,  3]])"
      ]
     },
     "execution_count": 12,
     "metadata": {},
     "output_type": "execute_result"
    }
   ],
   "source": [
    "q1_1_c1 = [[0, 7], \n",
    "           [5, 3]]\n",
    "q1_1_c2 = [[1, 0, 0], \n",
    "           [0, -1, 1]]\n",
    "q1_1_cPrd = np.matmul(q1_1_c1, q1_1_c2)\n",
    "q1_1_cPrd"
   ]
  },
  {
   "cell_type": "markdown",
   "id": "d0f7b05e",
   "metadata": {},
   "source": [
    "Answers are the same"
   ]
  },
  {
   "cell_type": "markdown",
   "id": "40a1f746",
   "metadata": {},
   "source": [
    "## 2. Linear transformation of images (60pt)"
   ]
  },
  {
   "cell_type": "markdown",
   "id": "f19ade01",
   "metadata": {},
   "source": [
    "### 2.1 Flipping (mirroring) image (30pt)"
   ]
  },
  {
   "cell_type": "markdown",
   "id": "b6ca1332",
   "metadata": {},
   "source": [
    "#### 2.1.1 (10pt) Construct the “flip-x” matrix F . It should be a 2 × 2 matrix that inverses the x-components while leaving y-components intact. You can think in terms of generic matrix multiplication.\n",
    "\n",
    "Hint: you can take the unit matrix as the point of departure and see which elements you have to modify to get flip-x instead."
   ]
  },
  {
   "cell_type": "code",
   "execution_count": 13,
   "id": "c2471ae3",
   "metadata": {},
   "outputs": [],
   "source": [
    "# https://www.google.com/search?q=how+to+flip+matrix+2x2&tbm=isch&ved=2ahUKEwjFoIeawpvwAhWS-TgGHR\n",
    "# ztBCEQ2-cCegQIABAA&oq=how+to+flip+matrix+2x2&gs_lcp=CgNpbWcQAzoECAAQGFDvmAFY2p0BYO-eAWgAcAB4AIA\n",
    "# BRYgBjgKSAQE0mAEAoAEBqgELZ3dzLXdpei1pbWfAAQE&sclient=img&ei=KH2GYMXsGJL\n",
    "# z4-EPnNqTiAI&bih=637&biw=1440#imgrc=dWBWYMGOroFNDM\n",
    "\n",
    "# def flipXMatrix(matrix): \n",
    "#     flipFactor = [[1, 0],\n",
    "#                   [0, 1]]\n",
    "#     return np.matmul(matrix, flipFactor)\n",
    "\n",
    "def flipXMatrix(matrix): \n",
    "    flipFactor = [[-1, 0],\n",
    "                  [0, 1]]\n",
    "    return np.matmul(matrix, flipFactor)"
   ]
  },
  {
   "cell_type": "code",
   "execution_count": 14,
   "id": "df61cc43",
   "metadata": {},
   "outputs": [],
   "source": [
    "def flip(matrix): \n",
    "    flipFactor = [[-1, 0],\n",
    "                  [0, 1]]\n",
    "    return flipFactor"
   ]
  },
  {
   "cell_type": "markdown",
   "id": "3d8dfbf4",
   "metadata": {},
   "source": [
    "#### 2.1.2 (10pt) Why should Fx be a 2 × 2 matrix? (Hint: try something else, e.g. 2 × 3 or 3 × 2 matrix. What is the result?)"
   ]
  },
  {
   "cell_type": "markdown",
   "id": "5b696560",
   "metadata": {},
   "source": [
    "So we don't run into dimension errors and flip it properly (since we only want to flip X and not Y, and we don't want to create more columns)"
   ]
  },
  {
   "cell_type": "markdown",
   "id": "b254b9ed",
   "metadata": {},
   "source": [
    "#### 2.1.3 (10pt) Demonstrate that your Fx flips Crazy Hat image. (Hint: you can re-use the plotting function from the lab with no modifications.)\n"
   ]
  },
  {
   "cell_type": "code",
   "execution_count": 15,
   "id": "45c5e8d0",
   "metadata": {},
   "outputs": [
    {
     "ename": "NameError",
     "evalue": "name 'X' is not defined",
     "output_type": "error",
     "traceback": [
      "\u001b[1;31m---------------------------------------------------------------------------\u001b[0m",
      "\u001b[1;31mNameError\u001b[0m                                 Traceback (most recent call last)",
      "\u001b[1;32m<ipython-input-15-b69ecb70186d>\u001b[0m in \u001b[0;36m<module>\u001b[1;34m\u001b[0m\n\u001b[1;32m----> 1\u001b[1;33m \u001b[0mX_flipXMatrix\u001b[0m \u001b[1;33m=\u001b[0m \u001b[0mflipXMatrix\u001b[0m\u001b[1;33m(\u001b[0m\u001b[0mX\u001b[0m\u001b[1;33m)\u001b[0m\u001b[1;33m\u001b[0m\u001b[1;33m\u001b[0m\u001b[0m\n\u001b[0m",
      "\u001b[1;31mNameError\u001b[0m: name 'X' is not defined"
     ]
    }
   ],
   "source": [
    "X_flipXMatrix = flipXMatrix(X)"
   ]
  },
  {
   "cell_type": "code",
   "execution_count": 16,
   "id": "7fb98344",
   "metadata": {
    "tags": []
   },
   "outputs": [],
   "source": [
    "# uniqueGroups = np.unique(groups)\n",
    "\n",
    "# for grp in uniqueGroups:\n",
    "#     Xg = X_flipXMatrix[groups == grp]\n",
    "#     ax = plt.subplot(1, 1, 1)\n",
    "#     ax.plot(Xg[:,0], Xg[:,1], marker=\"o\")\n",
    "#     ax.set_aspect(\"equal\")\n",
    "\n",
    "def plotGraph(X, groups, colour):\n",
    "    uniqueGroups = np.unique(groups)\n",
    "    for grp in uniqueGroups:\n",
    "        Xg = X[groups == grp]\n",
    "        ax = plt.subplot(1, 1, 1)\n",
    "        ax.plot(Xg[:,0], Xg[:,1], marker=\"o\", color=colour)\n",
    "        ax.set_aspect(\"equal\")"
   ]
  },
  {
   "cell_type": "code",
   "execution_count": 17,
   "id": "f6f2b6ef",
   "metadata": {},
   "outputs": [
    {
     "ename": "NameError",
     "evalue": "name 'X_flipXMatrix' is not defined",
     "output_type": "error",
     "traceback": [
      "\u001b[1;31m---------------------------------------------------------------------------\u001b[0m",
      "\u001b[1;31mNameError\u001b[0m                                 Traceback (most recent call last)",
      "\u001b[1;32m<ipython-input-17-4f6da7f3778e>\u001b[0m in \u001b[0;36m<module>\u001b[1;34m\u001b[0m\n\u001b[0;32m      1\u001b[0m \u001b[1;31m# this is the flipped\u001b[0m\u001b[1;33m\u001b[0m\u001b[1;33m\u001b[0m\u001b[1;33m\u001b[0m\u001b[0m\n\u001b[1;32m----> 2\u001b[1;33m \u001b[0mplotGraph\u001b[0m\u001b[1;33m(\u001b[0m\u001b[0mX_flipXMatrix\u001b[0m\u001b[1;33m,\u001b[0m \u001b[0mgroups\u001b[0m\u001b[1;33m,\u001b[0m \u001b[1;34m'blue'\u001b[0m\u001b[1;33m)\u001b[0m\u001b[1;33m\u001b[0m\u001b[1;33m\u001b[0m\u001b[0m\n\u001b[0m",
      "\u001b[1;31mNameError\u001b[0m: name 'X_flipXMatrix' is not defined"
     ]
    }
   ],
   "source": [
    "# this is the flipped\n",
    "plotGraph(X_flipXMatrix, groups, 'blue')"
   ]
  },
  {
   "cell_type": "code",
   "execution_count": 18,
   "id": "17e698d5",
   "metadata": {},
   "outputs": [
    {
     "ename": "NameError",
     "evalue": "name 'X' is not defined",
     "output_type": "error",
     "traceback": [
      "\u001b[1;31m---------------------------------------------------------------------------\u001b[0m",
      "\u001b[1;31mNameError\u001b[0m                                 Traceback (most recent call last)",
      "\u001b[1;32m<ipython-input-18-d8a9256433b7>\u001b[0m in \u001b[0;36m<module>\u001b[1;34m\u001b[0m\n\u001b[0;32m      1\u001b[0m \u001b[1;31m# this is the original; as you can see its flipped\u001b[0m\u001b[1;33m\u001b[0m\u001b[1;33m\u001b[0m\u001b[1;33m\u001b[0m\u001b[0m\n\u001b[1;32m----> 2\u001b[1;33m \u001b[0mplotGraph\u001b[0m\u001b[1;33m(\u001b[0m\u001b[0mX\u001b[0m\u001b[1;33m,\u001b[0m \u001b[0mgroups\u001b[0m\u001b[1;33m,\u001b[0m \u001b[1;34m'red'\u001b[0m\u001b[1;33m)\u001b[0m\u001b[1;33m\u001b[0m\u001b[1;33m\u001b[0m\u001b[0m\n\u001b[0m",
      "\u001b[1;31mNameError\u001b[0m: name 'X' is not defined"
     ]
    }
   ],
   "source": [
    "# this is the original; as you can see its flipped\n",
    "plotGraph(X, groups, 'red')"
   ]
  },
  {
   "cell_type": "markdown",
   "id": "dd2f3ffc",
   "metadata": {},
   "source": [
    "### 2.2 Stretch image (30pt)"
   ]
  },
  {
   "cell_type": "markdown",
   "id": "9218f96b",
   "metadata": {},
   "source": [
    "#### 2.2.1 (10pt) Create the “stretch-y” matrix Sy(s) where s is the “stretch factor”, 2 in the example above. Exactly as a above, it should be a 2 × 2 matrix that stretches the y-components while leaving x-components untouched. And you can think in terms of generic matrix multiplication:"
   ]
  },
  {
   "cell_type": "code",
   "execution_count": 19,
   "id": "f64cf957",
   "metadata": {
    "tags": []
   },
   "outputs": [],
   "source": [
    "def stretchYMatrix(matrix, factor):\n",
    "    # stretches y\n",
    "    stretchFactor = [[1, 0],\n",
    "                     [0,factor]]\n",
    "    \n",
    "# stretches x\n",
    "#     stretchFactor = [[factor, 0],\n",
    "#                      [0,1]]\n",
    "\n",
    "#  rotates\n",
    "#     stretchFactor = [[0, 1],\n",
    "#                      [factor,0]]\n",
    "\n",
    "# rotates\n",
    "#         stretchFactor = [[0, factor],\n",
    "#                      [1,0]]\n",
    "    return np.matmul(matrix, stretchFactor)"
   ]
  },
  {
   "cell_type": "code",
   "execution_count": 20,
   "id": "4bfdead9",
   "metadata": {},
   "outputs": [],
   "source": [
    "# same thing but cleaner and using @\n",
    "def stretch(factor):\n",
    "    # stretches y\n",
    "    stretchFactor = [[1, 0],\n",
    "                     [0,factor]]\n",
    "    return stretchFactor"
   ]
  },
  {
   "cell_type": "markdown",
   "id": "d665d29b",
   "metadata": {},
   "source": [
    "#### 2.2.2 (10pt) Demonstrate that your matrix works correctly by stretching Crazy Hat vertically by factor 2."
   ]
  },
  {
   "cell_type": "code",
   "execution_count": 21,
   "id": "f83c8a25",
   "metadata": {},
   "outputs": [
    {
     "ename": "NameError",
     "evalue": "name 'X' is not defined",
     "output_type": "error",
     "traceback": [
      "\u001b[1;31m---------------------------------------------------------------------------\u001b[0m",
      "\u001b[1;31mNameError\u001b[0m                                 Traceback (most recent call last)",
      "\u001b[1;32m<ipython-input-21-fffd61d67487>\u001b[0m in \u001b[0;36m<module>\u001b[1;34m\u001b[0m\n\u001b[1;32m----> 1\u001b[1;33m \u001b[0mplotMe\u001b[0m \u001b[1;33m=\u001b[0m \u001b[0mX\u001b[0m \u001b[1;33m@\u001b[0m \u001b[0mstretch\u001b[0m\u001b[1;33m(\u001b[0m\u001b[1;36m2\u001b[0m\u001b[1;33m)\u001b[0m\u001b[1;33m\u001b[0m\u001b[1;33m\u001b[0m\u001b[0m\n\u001b[0m\u001b[0;32m      2\u001b[0m \u001b[0mplotGraph\u001b[0m\u001b[1;33m(\u001b[0m\u001b[0mplotMe\u001b[0m\u001b[1;33m,\u001b[0m \u001b[0mgroups\u001b[0m\u001b[1;33m,\u001b[0m \u001b[1;34m'red'\u001b[0m\u001b[1;33m)\u001b[0m\u001b[1;33m\u001b[0m\u001b[1;33m\u001b[0m\u001b[0m\n\u001b[0;32m      3\u001b[0m \u001b[1;31m# plotGraph(stretchYMatrix(X, 2), groups, 'red')\u001b[0m\u001b[1;33m\u001b[0m\u001b[1;33m\u001b[0m\u001b[1;33m\u001b[0m\u001b[0m\n",
      "\u001b[1;31mNameError\u001b[0m: name 'X' is not defined"
     ]
    }
   ],
   "source": [
    "plotMe = X @ stretch(2)\n",
    "plotGraph(plotMe, groups, 'red')\n",
    "# plotGraph(stretchYMatrix(X, 2), groups, 'red')"
   ]
  },
  {
   "cell_type": "markdown",
   "id": "d6cde4bb",
   "metadata": {},
   "source": [
    "#### 2.2.3 (10pt) Finally, let’s combine these transformation. Use Crazy Hat to perform the following oper- ations: mirror from the 45◦-line, and stretch it 2× along the 45◦-line (see the example below). (I have in mind the 45° line that heads into NE but you may define the degrees in the same way as we do for rotation if you wish.)\n",
    "Hint: instead of creating a flip-45-deg matrix, you can rotate your image by 45 degrees, flip over x and rotate back as X · R(45) · Fx · R(−45). Try this!"
   ]
  },
  {
   "cell_type": "code",
   "execution_count": 22,
   "id": "b70a04d4",
   "metadata": {},
   "outputs": [],
   "source": [
    "# from ott's inc04a\n",
    "def Rot(alpha):\n",
    "    a = np.pi*alpha/180\n",
    "    R = np.array([[np.cos(a), -np.sin(a)],\n",
    "                 [np.sin(a), np.cos(a)]])\n",
    "    return R"
   ]
  },
  {
   "cell_type": "code",
   "execution_count": 23,
   "id": "b5cf0b41",
   "metadata": {},
   "outputs": [
    {
     "ename": "NameError",
     "evalue": "name 'X' is not defined",
     "output_type": "error",
     "traceback": [
      "\u001b[1;31m---------------------------------------------------------------------------\u001b[0m",
      "\u001b[1;31mNameError\u001b[0m                                 Traceback (most recent call last)",
      "\u001b[1;32m<ipython-input-23-5a3834fbb965>\u001b[0m in \u001b[0;36m<module>\u001b[1;34m\u001b[0m\n\u001b[1;32m----> 1\u001b[1;33m \u001b[0mrotatedX\u001b[0m \u001b[1;33m=\u001b[0m \u001b[0mX\u001b[0m \u001b[1;33m@\u001b[0m \u001b[0mRot\u001b[0m\u001b[1;33m(\u001b[0m\u001b[1;36m45\u001b[0m\u001b[1;33m)\u001b[0m\u001b[1;33m\u001b[0m\u001b[1;33m\u001b[0m\u001b[0m\n\u001b[0m\u001b[0;32m      2\u001b[0m \u001b[0mflippedRotatedX\u001b[0m \u001b[1;33m=\u001b[0m \u001b[0mflipXMatrix\u001b[0m\u001b[1;33m(\u001b[0m\u001b[0mrotatedX\u001b[0m\u001b[1;33m)\u001b[0m\u001b[1;33m\u001b[0m\u001b[1;33m\u001b[0m\u001b[0m\n\u001b[0;32m      3\u001b[0m \u001b[0mstretchedFlippedRotatedX\u001b[0m \u001b[1;33m=\u001b[0m \u001b[0mstretchYMatrix\u001b[0m\u001b[1;33m(\u001b[0m\u001b[0mflippedRotatedX\u001b[0m\u001b[1;33m,\u001b[0m \u001b[1;36m2\u001b[0m\u001b[1;33m)\u001b[0m\u001b[1;33m\u001b[0m\u001b[1;33m\u001b[0m\u001b[0m\n\u001b[0;32m      4\u001b[0m \u001b[0mrotatedX_2\u001b[0m \u001b[1;33m=\u001b[0m \u001b[0mstretchedFlippedRotatedX\u001b[0m \u001b[1;33m@\u001b[0m \u001b[0mRot\u001b[0m\u001b[1;33m(\u001b[0m\u001b[1;36m45\u001b[0m\u001b[1;33m)\u001b[0m\u001b[1;33m\u001b[0m\u001b[1;33m\u001b[0m\u001b[0m\n\u001b[0;32m      5\u001b[0m \u001b[0mplotGraph\u001b[0m\u001b[1;33m(\u001b[0m\u001b[0mrotatedX_2\u001b[0m\u001b[1;33m,\u001b[0m \u001b[0mgroups\u001b[0m\u001b[1;33m,\u001b[0m \u001b[1;34m'blue'\u001b[0m\u001b[1;33m)\u001b[0m\u001b[1;33m\u001b[0m\u001b[1;33m\u001b[0m\u001b[0m\n",
      "\u001b[1;31mNameError\u001b[0m: name 'X' is not defined"
     ]
    }
   ],
   "source": [
    "rotatedX = X @ Rot(45)\n",
    "flippedRotatedX = flipXMatrix(rotatedX)\n",
    "stretchedFlippedRotatedX = stretchYMatrix(flippedRotatedX, 2)\n",
    "rotatedX_2 = stretchedFlippedRotatedX @ Rot(45)\n",
    "plotGraph(rotatedX_2, groups, 'blue')"
   ]
  },
  {
   "cell_type": "markdown",
   "id": "dee98b81",
   "metadata": {},
   "source": [
    "## Test if the code works with the PS example"
   ]
  },
  {
   "cell_type": "code",
   "execution_count": 24,
   "id": "8885e744",
   "metadata": {},
   "outputs": [
    {
     "data": {
      "image/png": "[encoded data removed]",
      "text/plain": [
       "<Figure size 432x288 with 1 Axes>"
      ]
     },
     "metadata": {
      "needs_background": "light"
     },
     "output_type": "display_data"
    }
   ],
   "source": [
    "# create the image\n",
    "A = np.array([[0,0], [0,2], [1,1]]) # plot the image\n",
    "ax = plt.subplot(1,1,1) \n",
    "ax.plot(A[:,0], A[:,1], marker='o')\n",
    "ax.set_aspect(\"equal\")\n",
    "plt.show()"
   ]
  },
  {
   "cell_type": "code",
   "execution_count": 25,
   "id": "e88ae77d",
   "metadata": {},
   "outputs": [],
   "source": [
    "def plotGraphTester(A, colour):\n",
    "    ax = plt.subplot(1, 1, 1)\n",
    "    ax.plot(A[:,0], A[:,1], marker=\"o\", color=colour)\n",
    "    ax.set_aspect(\"equal\")"
   ]
  },
  {
   "cell_type": "code",
   "execution_count": 26,
   "id": "a02785ac",
   "metadata": {},
   "outputs": [
    {
     "data": {
      "image/png": "[encoded data removed]",
      "text/plain": [
       "<Figure size 432x288 with 1 Axes>"
      ]
     },
     "metadata": {
      "needs_background": "light"
     },
     "output_type": "display_data"
    }
   ],
   "source": [
    "rotatedA = A @ Rot(-60)\n",
    "flippedRotatedA = flipXMatrix(rotatedA)\n",
    "stretchedFlippedRotatedA = stretchYMatrix(flippedRotatedA, 2)\n",
    "rotatedA_2 = stretchedFlippedRotatedA @ Rot(60)\n",
    "\n",
    "plotGraphTester(rotatedA_2, 'blue')"
   ]
  },
  {
   "cell_type": "markdown",
   "id": "5f9bcc31",
   "metadata": {},
   "source": [
    "## 3. Rotate Bitmap Images (30 points)"
   ]
  },
  {
   "cell_type": "markdown",
   "id": "3299bf2f",
   "metadata": {},
   "source": [
    "### 3.1 (15pt) Run the code and understand what it does. In particular, what is the matrix X that is made by stacking?"
   ]
  },
  {
   "cell_type": "code",
   "execution_count": 27,
   "id": "490c978f",
   "metadata": {},
   "outputs": [],
   "source": [
    "import cv2"
   ]
  },
  {
   "cell_type": "code",
   "execution_count": 35,
   "id": "f78d539a",
   "metadata": {},
   "outputs": [],
   "source": [
    "img = imread('./number3.png')[:, :, 0] # RGBA?"
   ]
  },
  {
   "cell_type": "code",
   "execution_count": 36,
   "id": "642a8455",
   "metadata": {},
   "outputs": [
    {
     "name": "stdout",
     "output_type": "stream",
     "text": [
      "shape: (280, 280)\n"
     ]
    },
    {
     "data": {
      "image/png": "[encoded data removed]",
      "text/plain": [
       "<Figure size 216x216 with 1 Axes>"
      ]
     },
     "metadata": {
      "needs_background": "light"
     },
     "output_type": "display_data"
    }
   ],
   "source": [
    "print(\"shape:\", img.shape)\n",
    "## create coordinate matrix\n",
    "xx, yy = np.meshgrid(np.arange(img.shape[1]),\n",
    "np.arange(img.shape[0], 0, -1))\n",
    "X = np.stack((xx.ravel(), yy.ravel()), axis=1)\n",
    "fig = plt.figure(figsize=(3,3))\n",
    "ax = fig.add_subplot(1,1,1)\n",
    "ax.scatter(X[:,0], X[:,1], c=img.ravel(), marker='.', cmap=\"Greys_r\") \n",
    "ax.set_aspect('equal')\n",
    "plt.show()"
   ]
  },
  {
   "cell_type": "code",
   "execution_count": 37,
   "id": "9f27dedd",
   "metadata": {},
   "outputs": [
    {
     "data": {
      "image/png": "[encoded data removed]",
      "text/plain": [
       "<Figure size 216x216 with 1 Axes>"
      ]
     },
     "metadata": {
      "needs_background": "light"
     },
     "output_type": "display_data"
    }
   ],
   "source": [
    "kkFigure = plt.figure(figsize=(3,3))\n",
    "# rotatedA = X @ Rot(-180) + np.array([500, 23]) # + np.array([]) changes position but we'll need crop to shift\n",
    "\n",
    "ax = kkFigure.add_subplot(1, 1, 1)\n",
    "ax.scatter(rotatedA[:,0], rotatedA[:,1], c=img.ravel(), marker=\".\", cmap=\"Greys_r\")\n",
    "ax.set_aspect(\"equal\")"
   ]
  },
  {
   "cell_type": "code",
   "execution_count": null,
   "id": "f8c120a2",
   "metadata": {},
   "outputs": [],
   "source": [
    "# The number of pixels\n",
    "#num_rows, num_cols = img.shape[:2]\n",
    "\n",
    "# Creating a translation matrix\n",
    "#translation_matrix = np.float32([ [1,0,70], [0,1,110] ])\n",
    "\n",
    "# Image translation\n",
    "#img_translation = cv2.warpAffine(img, translation_matrix, (num_cols,num_rows))\n",
    "\n",
    "#cv2.namedWindow('Translation', cv2.WINDOW_NORMAL)\n"
   ]
  },
  {
   "cell_type": "code",
   "execution_count": null,
   "id": "dc4b8ab6",
   "metadata": {},
   "outputs": [],
   "source": [
    "num3"
   ]
  },
  {
   "cell_type": "code",
   "execution_count": 39,
   "id": "5010a6a2",
   "metadata": {},
   "outputs": [
    {
     "name": "stdout",
     "output_type": "stream",
     "text": [
      "shape: (280, 280)\n"
     ]
    },
    {
     "data": {
      "image/png": "[encoded data removed]",
      "text/plain": [
       "<Figure size 216x216 with 1 Axes>"
      ]
     },
     "metadata": {
      "needs_background": "light"
     },
     "output_type": "display_data"
    }
   ],
   "source": [
    "print(\"shape:\", img.shape)\n",
    "## create coordinate matrix\n",
    "xx, yy = np.meshgrid(np.arange(img.shape[1]),\n",
    "np.arange(img.shape[0], 0, -1))\n",
    "X = np.stack((xx.ravel(), yy.ravel()), axis=1)\n",
    "fig = plt.figure(figsize=(3,3))\n",
    "ax = fig.add_subplot(1,1,1)\n",
    "ax.scatter(X[:,0], X[:,1], c=img.ravel(), marker='.', cmap=\"Greys_r\") \n",
    "ax.set_aspect('equal')\n",
    "plt.show()"
   ]
  },
  {
   "cell_type": "markdown",
   "id": "d45af6cc",
   "metadata": {},
   "source": [
    "Stacks of 2D matrices of gray values that forms a greyscale image"
   ]
  },
  {
   "cell_type": "markdown",
   "id": "3b6f79cc",
   "metadata": {},
   "source": [
    "### 3.2 Consult lecture notes section 2.3.5, in particular the section about bitmap images."
   ]
  },
  {
   "cell_type": "markdown",
   "id": "31a0097d",
   "metadata": {},
   "source": [
    "### 3.3 (10pt) Now use matrix multiplication to rotate this image into a few different angles. Note: use matrix rotation we did above, various image libraries will not count!\n",
    "Suggestion: when you use the code like shown above, it will result in large and slow pdf (or html) files. You can make the pdf file better by:\n",
    "(a) instead of plt.show, save the image into a jpg or png file. (b) put the resulting saved file into your pdf/html.\n"
   ]
  },
  {
   "cell_type": "markdown",
   "id": "ade2cd00",
   "metadata": {},
   "source": [
    "#### Random Rotations"
   ]
  },
  {
   "cell_type": "code",
   "execution_count": 40,
   "id": "e23ceed9",
   "metadata": {},
   "outputs": [
    {
     "data": {
      "text/plain": [
       "(280, 280)"
      ]
     },
     "execution_count": 40,
     "metadata": {},
     "output_type": "execute_result"
    }
   ],
   "source": [
    "img.shape"
   ]
  },
  {
   "cell_type": "code",
   "execution_count": 41,
   "id": "36157bea",
   "metadata": {},
   "outputs": [
    {
     "data": {
      "image/png": "[encoded data removed]",
      "text/plain": [
       "<Figure size 216x216 with 1 Axes>"
      ]
     },
     "metadata": {
      "needs_background": "light"
     },
     "output_type": "display_data"
    }
   ],
   "source": [
    "kkFigure = plt.figure(figsize=(3,3))\n",
    "rotatedA = X @ Rot(99)\n",
    "ax = kkFigure.add_subplot(1, 1, 1)\n",
    "ax.scatter(rotatedA[:,0], rotatedA[:,1], c=img.ravel(), marker=\".\", cmap=\"Greys_r\")\n",
    "ax.set_aspect(\"equal\")"
   ]
  },
  {
   "cell_type": "code",
   "execution_count": 42,
   "id": "aea578f8",
   "metadata": {},
   "outputs": [
    {
     "data": {
      "image/png": "[encoded data removed]",
      "text/plain": [
       "<Figure size 216x216 with 1 Axes>"
      ]
     },
     "metadata": {
      "needs_background": "light"
     },
     "output_type": "display_data"
    }
   ],
   "source": [
    "kkFigure = plt.figure(figsize=(3,3))\n",
    "rotatedA = X @ Rot(137)\n",
    "ax = kkFigure.add_subplot(1, 1, 1)\n",
    "ax.scatter(rotatedA[:,0], rotatedA[:,1], c=img.ravel(), marker=\".\", cmap=\"Greys_r\")\n",
    "ax.set_aspect(\"equal\")"
   ]
  },
  {
   "cell_type": "code",
   "execution_count": 43,
   "id": "490741aa",
   "metadata": {},
   "outputs": [
    {
     "data": {
      "image/png": "[encoded data removed]",
      "text/plain": [
       "<Figure size 216x216 with 1 Axes>"
      ]
     },
     "metadata": {
      "needs_background": "light"
     },
     "output_type": "display_data"
    }
   ],
   "source": [
    "kkFigure = plt.figure(figsize=(3,3))\n",
    "rotatedA = X @ Rot(817)\n",
    "ax = kkFigure.add_subplot(1, 1, 1)\n",
    "ax.scatter(rotatedA[:,0], rotatedA[:,1], c=img.ravel(), marker=\".\", cmap=\"Greys_r\")\n",
    "ax.set_aspect(\"equal\")"
   ]
  },
  {
   "cell_type": "code",
   "execution_count": 44,
   "id": "92107d8c",
   "metadata": {},
   "outputs": [
    {
     "data": {
      "image/png": "[encoded data removed]",
      "text/plain": [
       "<Figure size 216x216 with 1 Axes>"
      ]
     },
     "metadata": {
      "needs_background": "light"
     },
     "output_type": "display_data"
    }
   ],
   "source": [
    "kkFigure = plt.figure(figsize=(3,3))\n",
    "rotatedA = X @ Rot(-30)\n",
    "ax = kkFigure.add_subplot(1, 1, 1)\n",
    "ax.scatter(rotatedA[:,0], rotatedA[:,1], c=img.ravel(), marker=\".\", cmap=\"Greys_r\")\n",
    "ax.set_aspect(\"equal\")"
   ]
  },
  {
   "cell_type": "markdown",
   "id": "d2a7d728",
   "metadata": {},
   "source": [
    "#### Save this"
   ]
  },
  {
   "cell_type": "code",
   "execution_count": 45,
   "id": "d6d44b8d",
   "metadata": {
    "tags": []
   },
   "outputs": [
    {
     "data": {
      "image/png": "[encoded data removed]",
      "text/plain": [
       "<Figure size 216x216 with 1 Axes>"
      ]
     },
     "metadata": {
      "needs_background": "light"
     },
     "output_type": "display_data"
    }
   ],
   "source": [
    "kkFigure = plt.figure(figsize=(3,3))\n",
    "rotatedA = X @ Rot(10)\n",
    "flippedRotatedA = flipXMatrix(rotatedA)\n",
    "rotatedA_2 = flippedRotatedA @ Rot(-5)\n",
    "# saveKK = plotGraphBeep(rotatedA_2)\n",
    "ax = kkFigure.add_subplot(1, 1, 1)\n",
    "ax.scatter(rotatedA_2[:,0], rotatedA_2[:,1], c=img.ravel(), marker=\".\", cmap=\"Greys_r\")\n",
    "ax.set_aspect(\"equal\")\n",
    "kkFigure.savefig('kk-rotated.png')"
   ]
  },
  {
   "cell_type": "markdown",
   "id": "f59a1298",
   "metadata": {},
   "source": [
    "#### read image"
   ]
  },
  {
   "cell_type": "code",
   "execution_count": 46,
   "id": "8396d36c",
   "metadata": {},
   "outputs": [
    {
     "ename": "FileNotFoundError",
     "evalue": "[Errno 2] No such file or directory: '../problem set/kk-rotated.png'",
     "output_type": "error",
     "traceback": [
      "\u001b[1;31m---------------------------------------------------------------------------\u001b[0m",
      "\u001b[1;31mFileNotFoundError\u001b[0m                         Traceback (most recent call last)",
      "\u001b[1;32m<ipython-input-46-5b795da012c0>\u001b[0m in \u001b[0;36m<module>\u001b[1;34m\u001b[0m\n\u001b[1;32m----> 1\u001b[1;33m \u001b[0mrotatedKK\u001b[0m \u001b[1;33m=\u001b[0m \u001b[0mmpimg\u001b[0m\u001b[1;33m.\u001b[0m\u001b[0mimread\u001b[0m\u001b[1;33m(\u001b[0m\u001b[1;34m\"../problem set/kk-rotated.png\"\u001b[0m\u001b[1;33m)\u001b[0m\u001b[1;33m\u001b[0m\u001b[1;33m\u001b[0m\u001b[0m\n\u001b[0m\u001b[0;32m      2\u001b[0m \u001b[0mimgplot\u001b[0m \u001b[1;33m=\u001b[0m \u001b[0mplt\u001b[0m\u001b[1;33m.\u001b[0m\u001b[0mimshow\u001b[0m\u001b[1;33m(\u001b[0m\u001b[0mrotatedKK\u001b[0m\u001b[1;33m)\u001b[0m\u001b[1;33m\u001b[0m\u001b[1;33m\u001b[0m\u001b[0m\n\u001b[0;32m      3\u001b[0m \u001b[0mplt\u001b[0m\u001b[1;33m.\u001b[0m\u001b[0maxis\u001b[0m\u001b[1;33m(\u001b[0m\u001b[1;34m'off'\u001b[0m\u001b[1;33m)\u001b[0m\u001b[1;33m\u001b[0m\u001b[1;33m\u001b[0m\u001b[0m\n\u001b[0;32m      4\u001b[0m \u001b[0mplt\u001b[0m\u001b[1;33m.\u001b[0m\u001b[0mshow\u001b[0m\u001b[1;33m(\u001b[0m\u001b[1;33m)\u001b[0m\u001b[1;33m\u001b[0m\u001b[1;33m\u001b[0m\u001b[0m\n",
      "\u001b[1;32m~\\anaconda3\\envs\\tf\\lib\\site-packages\\matplotlib\\image.py\u001b[0m in \u001b[0;36mimread\u001b[1;34m(fname, format)\u001b[0m\n\u001b[0;32m   1494\u001b[0m                     \u001b[0mresponse\u001b[0m \u001b[1;33m=\u001b[0m \u001b[0mio\u001b[0m\u001b[1;33m.\u001b[0m\u001b[0mBytesIO\u001b[0m\u001b[1;33m(\u001b[0m\u001b[0mresponse\u001b[0m\u001b[1;33m.\u001b[0m\u001b[0mread\u001b[0m\u001b[1;33m(\u001b[0m\u001b[1;33m)\u001b[0m\u001b[1;33m)\u001b[0m\u001b[1;33m\u001b[0m\u001b[1;33m\u001b[0m\u001b[0m\n\u001b[0;32m   1495\u001b[0m                 \u001b[1;32mreturn\u001b[0m \u001b[0mimread\u001b[0m\u001b[1;33m(\u001b[0m\u001b[0mresponse\u001b[0m\u001b[1;33m,\u001b[0m \u001b[0mformat\u001b[0m\u001b[1;33m=\u001b[0m\u001b[0mext\u001b[0m\u001b[1;33m)\u001b[0m\u001b[1;33m\u001b[0m\u001b[1;33m\u001b[0m\u001b[0m\n\u001b[1;32m-> 1496\u001b[1;33m     \u001b[1;32mwith\u001b[0m \u001b[0mimg_open\u001b[0m\u001b[1;33m(\u001b[0m\u001b[0mfname\u001b[0m\u001b[1;33m)\u001b[0m \u001b[1;32mas\u001b[0m \u001b[0mimage\u001b[0m\u001b[1;33m:\u001b[0m\u001b[1;33m\u001b[0m\u001b[1;33m\u001b[0m\u001b[0m\n\u001b[0m\u001b[0;32m   1497\u001b[0m         return (_pil_png_to_float_array(image)\n\u001b[0;32m   1498\u001b[0m                 \u001b[1;32mif\u001b[0m \u001b[0misinstance\u001b[0m\u001b[1;33m(\u001b[0m\u001b[0mimage\u001b[0m\u001b[1;33m,\u001b[0m \u001b[0mPIL\u001b[0m\u001b[1;33m.\u001b[0m\u001b[0mPngImagePlugin\u001b[0m\u001b[1;33m.\u001b[0m\u001b[0mPngImageFile\u001b[0m\u001b[1;33m)\u001b[0m \u001b[1;32melse\u001b[0m\u001b[1;33m\u001b[0m\u001b[1;33m\u001b[0m\u001b[0m\n",
      "\u001b[1;32m~\\anaconda3\\envs\\tf\\lib\\site-packages\\PIL\\ImageFile.py\u001b[0m in \u001b[0;36m__init__\u001b[1;34m(self, fp, filename)\u001b[0m\n\u001b[0;32m    107\u001b[0m         \u001b[1;32mif\u001b[0m \u001b[0misPath\u001b[0m\u001b[1;33m(\u001b[0m\u001b[0mfp\u001b[0m\u001b[1;33m)\u001b[0m\u001b[1;33m:\u001b[0m\u001b[1;33m\u001b[0m\u001b[1;33m\u001b[0m\u001b[0m\n\u001b[0;32m    108\u001b[0m             \u001b[1;31m# filename\u001b[0m\u001b[1;33m\u001b[0m\u001b[1;33m\u001b[0m\u001b[1;33m\u001b[0m\u001b[0m\n\u001b[1;32m--> 109\u001b[1;33m             \u001b[0mself\u001b[0m\u001b[1;33m.\u001b[0m\u001b[0mfp\u001b[0m \u001b[1;33m=\u001b[0m \u001b[0mopen\u001b[0m\u001b[1;33m(\u001b[0m\u001b[0mfp\u001b[0m\u001b[1;33m,\u001b[0m \u001b[1;34m\"rb\"\u001b[0m\u001b[1;33m)\u001b[0m\u001b[1;33m\u001b[0m\u001b[1;33m\u001b[0m\u001b[0m\n\u001b[0m\u001b[0;32m    110\u001b[0m             \u001b[0mself\u001b[0m\u001b[1;33m.\u001b[0m\u001b[0mfilename\u001b[0m \u001b[1;33m=\u001b[0m \u001b[0mfp\u001b[0m\u001b[1;33m\u001b[0m\u001b[1;33m\u001b[0m\u001b[0m\n\u001b[0;32m    111\u001b[0m             \u001b[0mself\u001b[0m\u001b[1;33m.\u001b[0m\u001b[0m_exclusive_fp\u001b[0m \u001b[1;33m=\u001b[0m \u001b[1;32mTrue\u001b[0m\u001b[1;33m\u001b[0m\u001b[1;33m\u001b[0m\u001b[0m\n",
      "\u001b[1;31mFileNotFoundError\u001b[0m: [Errno 2] No such file or directory: '../problem set/kk-rotated.png'"
     ]
    }
   ],
   "source": [
    "rotatedKK = mpimg.imread(\"../problem set/kk-rotated.png\")\n",
    "imgplot = plt.imshow(rotatedKK)\n",
    "plt.axis('off')\n",
    "plt.show()"
   ]
  },
  {
   "cell_type": "markdown",
   "id": "3d316b8f",
   "metadata": {},
   "source": [
    "### 3.4 (5pt) Use also other transforms (Fx and Sy) to manipulate the image."
   ]
  },
  {
   "cell_type": "markdown",
   "id": "854ff408",
   "metadata": {},
   "source": [
    "We do flipping and rotating here"
   ]
  },
  {
   "cell_type": "code",
   "execution_count": 41,
   "id": "79a6e19f",
   "metadata": {},
   "outputs": [
    {
     "data": {
      "image/png": "[encoded data removed]",
      "text/plain": [
       "<Figure size 216x216 with 1 Axes>"
      ]
     },
     "metadata": {
      "needs_background": "light"
     },
     "output_type": "display_data"
    }
   ],
   "source": [
    "kkFigure = plt.figure(figsize=(3,3))\n",
    "rotatedA = X @ Rot(30)\n",
    "flippedRotatedA = flipXMatrix(rotatedA)\n",
    "rotatedA_2 = flippedRotatedA @ Rot(-30)\n",
    "# saveKK = plotGraphBeep(rotatedA_2)\n",
    "ax = kkFigure.add_subplot(1, 1, 1)\n",
    "ax.scatter(rotatedA_2[:,0], rotatedA_2[:,1], c=img.ravel(), marker=\".\", cmap=\"Greys_r\")\n",
    "ax.set_aspect(\"equal\")"
   ]
  },
  {
   "cell_type": "code",
   "execution_count": 42,
   "id": "ede5eb24",
   "metadata": {},
   "outputs": [
    {
     "data": {
      "image/png": "[encoded data removed]",
      "text/plain": [
       "<Figure size 216x216 with 1 Axes>"
      ]
     },
     "metadata": {
      "needs_background": "light"
     },
     "output_type": "display_data"
    }
   ],
   "source": [
    "kkFigure = plt.figure(figsize=(3,3))\n",
    "stretchedKK = X @ stretch(2)\n",
    "# saveKK = plotGraphBeep(rotatedA_2)\n",
    "ax = kkFigure.add_subplot(1, 1, 1)\n",
    "ax.scatter(stretchedKK[:,0], stretchedKK[:,1], c=img.ravel(), marker=\".\", cmap=\"Greys_r\")\n",
    "ax.set_aspect(\"equal\")"
   ]
  },
  {
   "cell_type": "code",
   "execution_count": 43,
   "id": "10ed2698",
   "metadata": {},
   "outputs": [
    {
     "data": {
      "image/png": "[encoded data removed]",
      "text/plain": [
       "<Figure size 216x216 with 1 Axes>"
      ]
     },
     "metadata": {
      "needs_background": "light"
     },
     "output_type": "display_data"
    }
   ],
   "source": [
    "kkFigure = plt.figure(figsize=(3,3))\n",
    "stretchedKK = X @ stretch(2)\n",
    "flippedStretchedKK = flipXMatrix(stretchedKK)\n",
    "# saveKK = plotGraphBeep(rotatedA_2)\n",
    "ax = kkFigure.add_subplot(1, 1, 1)\n",
    "ax.scatter(flippedStretchedKK[:,0], flippedStretchedKK[:,1], c=img.ravel(), marker=\".\", cmap=\"Greys_r\")\n",
    "ax.set_aspect(\"equal\")"
   ]
  }
 ],
 "metadata": {
  "kernelspec": {
   "display_name": "Python 3",
   "language": "python",
   "name": "python3"
  },
  "language_info": {
   "codemirror_mode": {
    "name": "ipython",
    "version": 3
   },
   "file_extension": ".py",
   "mimetype": "text/x-python",
   "name": "python",
   "nbconvert_exporter": "python",
   "pygments_lexer": "ipython3",
   "version": "3.8.8"
  }
 },
 "nbformat": 4,
 "nbformat_minor": 5
}
